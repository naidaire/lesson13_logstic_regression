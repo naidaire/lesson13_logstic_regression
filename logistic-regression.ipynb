{
 "cells": [
  {
   "cell_type": "markdown",
   "metadata": {},
   "source": [
    "<img src=\"http://imgur.com/1ZcRyrc.png\" style=\"float: left; margin: 20px; height: 55px\">\n",
    " \n",
    "# Logistic Regression\n",
    " \n",
    "_Authors: Multiple_\n",
    " \n",
    "---"
   ]
  },
  {
   "cell_type": "markdown",
   "metadata": {},
   "source": [
    "<a id=\"learning-objectives\"></a>\n",
    "### Learning Objectives\n",
    "\n",
    "By the end of this lesson, you will be able to..\n",
    "\n",
    "- Explain how logistic regression modifies linear regression for classification problems.\n",
    "- Interpret logistic regression coefficients.\n",
    "- Build a logistic regression model.\n",
    "- Calculate accuracy, true positive rate, and false negative rate from a confusion matrix.\n",
    "- Explain the limitations of accuracy as a classification metric.\n",
    "- Explain how to trade off true positive and false negative rate in a logistic regression model."
   ]
  },
  {
   "cell_type": "markdown",
   "metadata": {},
   "source": [
    "# Intro\n",
    "\n",
    "Tonight we are talking about logistic regression, which despite its name is a classification algorithm."
   ]
  },
  {
   "cell_type": "markdown",
   "metadata": {},
   "source": [
    "**Exercise.**\n",
    "\n",
    "/poll “Which of the following are classification (as opposed to regression) problems? (Select all that apply.)” “Predicting how many people will come to a meetup event.” “Predicting which of the people who signed up for a meetup will actually attend.” “Predicting the price that a house will sell for, based on its zip code and square footage.” “Assigning probabilities of experiencing a fire in the next six months to buildings in a city.” “Identifying animals in photographs by species.”"
   ]
  },
  {
   "cell_type": "markdown",
   "metadata": {},
   "source": []
  },
  {
   "cell_type": "markdown",
   "metadata": {},
   "source": [
    "<a id=\"refresher-fitting-and-visualizing-a-linear-regression-using-scikit-learn\"></a>\n",
    "## Refresher: Fitting and Visualizing a Linear Regression Using scikit-learn\n",
    "---\n",
    "\n",
    "Use Pandas to load in the glass attribute data from the UCI machine learning website. The columns are different measurements of properties of glass that can be used to identify the glass type. For detailed information on the columns in this data set, [please see the included .names file](http://archive.ics.uci.edu/ml/machine-learning-databases/glass/glass.names)."
   ]
  },
  {
   "cell_type": "code",
   "execution_count": 1,
   "metadata": {
    "collapsed": true
   },
   "outputs": [],
   "source": [
    "from pathlib import Path\n",
    "\n",
    "import matplotlib.pyplot as plt\n",
    "import pandas as pd\n",
    "import seaborn as sns\n",
    "\n",
    "%matplotlib inline\n",
    "sns.set(font_scale=1.5);"
   ]
  },
  {
   "cell_type": "code",
   "execution_count": 2,
   "metadata": {
    "scrolled": true
   },
   "outputs": [
    {
     "data": {
      "text/html": [
       "<div>\n",
       "<style>\n",
       "    .dataframe thead tr:only-child th {\n",
       "        text-align: right;\n",
       "    }\n",
       "\n",
       "    .dataframe thead th {\n",
       "        text-align: left;\n",
       "    }\n",
       "\n",
       "    .dataframe tbody tr th {\n",
       "        vertical-align: top;\n",
       "    }\n",
       "</style>\n",
       "<table border=\"1\" class=\"dataframe\">\n",
       "  <thead>\n",
       "    <tr style=\"text-align: right;\">\n",
       "      <th></th>\n",
       "      <th>RI</th>\n",
       "      <th>Na</th>\n",
       "      <th>Mg</th>\n",
       "      <th>Al</th>\n",
       "      <th>Si</th>\n",
       "      <th>K</th>\n",
       "      <th>Ca</th>\n",
       "      <th>Ba</th>\n",
       "      <th>Fe</th>\n",
       "      <th>Type</th>\n",
       "    </tr>\n",
       "  </thead>\n",
       "  <tbody>\n",
       "    <tr>\n",
       "      <th>0</th>\n",
       "      <td>1.52101</td>\n",
       "      <td>13.64</td>\n",
       "      <td>4.49</td>\n",
       "      <td>1.10</td>\n",
       "      <td>71.78</td>\n",
       "      <td>0.06</td>\n",
       "      <td>8.75</td>\n",
       "      <td>0.0</td>\n",
       "      <td>0.0</td>\n",
       "      <td>1</td>\n",
       "    </tr>\n",
       "    <tr>\n",
       "      <th>1</th>\n",
       "      <td>1.51761</td>\n",
       "      <td>13.89</td>\n",
       "      <td>3.60</td>\n",
       "      <td>1.36</td>\n",
       "      <td>72.73</td>\n",
       "      <td>0.48</td>\n",
       "      <td>7.83</td>\n",
       "      <td>0.0</td>\n",
       "      <td>0.0</td>\n",
       "      <td>1</td>\n",
       "    </tr>\n",
       "    <tr>\n",
       "      <th>2</th>\n",
       "      <td>1.51618</td>\n",
       "      <td>13.53</td>\n",
       "      <td>3.55</td>\n",
       "      <td>1.54</td>\n",
       "      <td>72.99</td>\n",
       "      <td>0.39</td>\n",
       "      <td>7.78</td>\n",
       "      <td>0.0</td>\n",
       "      <td>0.0</td>\n",
       "      <td>1</td>\n",
       "    </tr>\n",
       "    <tr>\n",
       "      <th>3</th>\n",
       "      <td>1.51766</td>\n",
       "      <td>13.21</td>\n",
       "      <td>3.69</td>\n",
       "      <td>1.29</td>\n",
       "      <td>72.61</td>\n",
       "      <td>0.57</td>\n",
       "      <td>8.22</td>\n",
       "      <td>0.0</td>\n",
       "      <td>0.0</td>\n",
       "      <td>1</td>\n",
       "    </tr>\n",
       "    <tr>\n",
       "      <th>4</th>\n",
       "      <td>1.51742</td>\n",
       "      <td>13.27</td>\n",
       "      <td>3.62</td>\n",
       "      <td>1.24</td>\n",
       "      <td>73.08</td>\n",
       "      <td>0.55</td>\n",
       "      <td>8.07</td>\n",
       "      <td>0.0</td>\n",
       "      <td>0.0</td>\n",
       "      <td>1</td>\n",
       "    </tr>\n",
       "  </tbody>\n",
       "</table>\n",
       "</div>"
      ],
      "text/plain": [
       "        RI     Na    Mg    Al     Si     K    Ca   Ba   Fe  Type\n",
       "0  1.52101  13.64  4.49  1.10  71.78  0.06  8.75  0.0  0.0     1\n",
       "1  1.51761  13.89  3.60  1.36  72.73  0.48  7.83  0.0  0.0     1\n",
       "2  1.51618  13.53  3.55  1.54  72.99  0.39  7.78  0.0  0.0     1\n",
       "3  1.51766  13.21  3.69  1.29  72.61  0.57  8.22  0.0  0.0     1\n",
       "4  1.51742  13.27  3.62  1.24  73.08  0.55  8.07  0.0  0.0     1"
      ]
     },
     "execution_count": 2,
     "metadata": {},
     "output_type": "execute_result"
    }
   ],
   "source": [
    "glass_filepath = Path('.', 'data', 'glass.csv')\n",
    "glass = pd.read_csv(glass_filepath)\n",
    "glass.head()"
   ]
  },
  {
   "cell_type": "code",
   "execution_count": 3,
   "metadata": {
    "collapsed": true
   },
   "outputs": [],
   "source": [
    "# change columns to something more uniform\n",
    "glass.columns = ['ri','na','mg','al','si','k','ca','ba','fe','glass_type']"
   ]
  },
  {
   "cell_type": "markdown",
   "metadata": {},
   "source": [
    "**Data Dictionary**\n",
    "\n",
    "- `Id`: number: 1 to 214\n",
    "- `RI`: refractive index  \n",
    "- `Na`: Sodium (unit measurement: weight percent in corresponding oxide, as are attributes 4-10)\n",
    "- `Mg`: Magnesium\n",
    "- `Al`: Aluminum\n",
    "- `Si`: Silicon\n",
    "- `K` : Potassium\n",
    "- `Ca`: Calcium\n",
    "- `Ba`: Barium\n",
    "- `Fe`: Iron\n",
    "- `Type` : Type of glass:"
   ]
  },
  {
   "cell_type": "markdown",
   "metadata": {},
   "source": [
    "**Let's build a regression model for refractice index against aluminum content.**"
   ]
  },
  {
   "cell_type": "code",
   "execution_count": 5,
   "metadata": {},
   "outputs": [
    {
     "data": {
      "text/plain": [
       "<seaborn.axisgrid.FacetGrid at 0x10d13c240>"
      ]
     },
     "execution_count": 5,
     "metadata": {},
     "output_type": "execute_result"
    },
    {
     "data": {
      "image/png": "[encoded data removed]",
      "text/plain": [
       "<matplotlib.figure.Figure at 0x10d13cda0>"
      ]
     },
     "metadata": {},
     "output_type": "display_data"
    }
   ],
   "source": [
    "#scatter with regression line\n",
    "sns.lmplot(data=glass, x='al', y='ri')"
   ]
  },
  {
   "cell_type": "markdown",
   "metadata": {},
   "source": [
    "**Exercise.**"
   ]
  },
  {
   "cell_type": "markdown",
   "metadata": {},
   "source": [
    "- Instantiate and fit a linear regression model predicting `ri` from `al` (and an intercept)."
   ]
  },
  {
   "cell_type": "code",
   "execution_count": 38,
   "metadata": {},
   "outputs": [
    {
     "data": {
      "text/plain": [
       "LinearRegression(copy_X=True, fit_intercept=True, n_jobs=1, normalize=False)"
      ]
     },
     "execution_count": 38,
     "metadata": {},
     "output_type": "execute_result"
    }
   ],
   "source": [
    "# Fit a linear regression model (name the model \"linreg\").\n",
    "\n",
    "from sklearn.linear_model import LinearRegression\n",
    "\n",
    "feature_cols = ['al']\n",
    "X = glass.loc[:, feature_cols]\n",
    "y = glass.loc[:, 'ri']\n",
    "\n",
    "linreg = LinearRegression()\n",
    "linreg.fit(X, y)\n",
    "\n",
    "\n"
   ]
  },
  {
   "cell_type": "markdown",
   "metadata": {},
   "source": [
    "- Add a column `y_pred` to `glass` that stores the model's fitted values for the refractice index."
   ]
  },
  {
   "cell_type": "code",
   "execution_count": 39,
   "metadata": {},
   "outputs": [],
   "source": [
    "# Make predictions for all values of X and add back to the original DataFrame.\n",
    "\n",
    "glass.loc[:, 'predictions'] = linreg.predict(X)"
   ]
  },
  {
   "cell_type": "markdown",
   "metadata": {},
   "source": [
    "- Plot the predicted `ri` against each `al` as a line."
   ]
  },
  {
   "cell_type": "code",
   "execution_count": 42,
   "metadata": {},
   "outputs": [
    {
     "data": {
      "text/plain": [
       "<matplotlib.axes._subplots.AxesSubplot at 0x11494abe0>"
      ]
     },
     "execution_count": 42,
     "metadata": {},
     "output_type": "execute_result"
    },
    {
     "data": {
      "image/png": "[encoded data removed]",
      "text/plain": [
       "<matplotlib.figure.Figure at 0x1149216a0>"
      ]
     },
     "metadata": {},
     "output_type": "display_data"
    }
   ],
   "source": [
    "# Plot those ri against al - connected by a line (try plt.plot()).\n",
    "\n",
    "glass.plot(kind='line', x='al', y='prediction')\n",
    "\n",
    "#plt.plot(glass.loc[:,'al'], glass.loc[:,'predictions'])"
   ]
  },
  {
   "cell_type": "markdown",
   "metadata": {},
   "source": [
    "_Note the y axis labels when comparing to the scatterplot above._"
   ]
  },
  {
   "cell_type": "markdown",
   "metadata": {},
   "source": [
    "- Plot this regression line with the scatter points on the same chart."
   ]
  },
  {
   "cell_type": "code",
   "execution_count": 49,
   "metadata": {},
   "outputs": [
    {
     "data": {
      "image/png": "[encoded data removed]",
      "text/plain": [
       "<matplotlib.figure.Figure at 0x114f3f4e0>"
      ]
     },
     "metadata": {},
     "output_type": "display_data"
    }
   ],
   "source": [
    "# Put the plots together (use a scatter and line graph).\n",
    "#use plt to plot bot the predicted line, and the scatter plot of al vs ri\n",
    "\n",
    "plt.plot(glass.loc[:,'al'], glass.loc[:, 'predictions'], color='red')\n",
    "plt.scatter(glass.loc[:, 'al'], glass.loc[:, 'ri']);"
   ]
  },
  {
   "cell_type": "markdown",
   "metadata": {},
   "source": [
    "- How good would you say that this model is, based on the graph? Suggestion: think about how it compares to a \"null model\" that just predicts the mean reflective index regardless of the aluminum content."
   ]
  },
  {
   "cell_type": "code",
   "execution_count": 52,
   "metadata": {},
   "outputs": [
    {
     "name": "stdout",
     "output_type": "stream",
     "text": [
      "0.00302975995483\n",
      "0.00276702770328\n",
      "-0.0867171840226\n"
     ]
    }
   ],
   "source": [
    "from sklearn.metrics import mean_squared_error\n",
    "import numpy as np\n",
    "\n",
    "null_pred = np.ones(y.shape)\n",
    "null_pred *= y.mean()\n",
    "\n",
    "null_rmse = (mean_squared_error(y, null_pred))**(0.5)\n",
    "pred_rmse = (mean_squared_error(y, glass.loc[:, 'predictions']))**(0.5)\n",
    "\n",
    "print(null_rmse)\n",
    "print(pred_rmse)\n",
    "print((pred_rmse - null_rmse) / null_rmse)"
   ]
  },
  {
   "cell_type": "markdown",
   "metadata": {},
   "source": []
  },
  {
   "cell_type": "markdown",
   "metadata": {},
   "source": [
    "- Print out the intercept and coefficient values from our fit `LinearRegression` object."
   ]
  },
  {
   "cell_type": "code",
   "execution_count": 32,
   "metadata": {},
   "outputs": [
    {
     "name": "stdout",
     "output_type": "stream",
     "text": [
      "1.52194533024\n",
      "[-0.00247761]\n"
     ]
    }
   ],
   "source": [
    "print(linreg.intercept_)\n",
    "print(linreg.coef_)"
   ]
  },
  {
   "cell_type": "markdown",
   "metadata": {},
   "source": [
    "- What do these numbers mean?"
   ]
  },
  {
   "cell_type": "markdown",
   "metadata": {},
   "source": []
  },
  {
   "cell_type": "markdown",
   "metadata": {},
   "source": [
    "- Manually compute the predicted value of `ri` when `al=2.0` using the regression equation."
   ]
  },
  {
   "cell_type": "code",
   "execution_count": 36,
   "metadata": {},
   "outputs": [
    {
     "data": {
      "text/plain": [
       "1.5169901102399999"
      ]
     },
     "execution_count": 36,
     "metadata": {},
     "output_type": "execute_result"
    }
   ],
   "source": [
    "# Compute prediction for al=2 using the equation.\n",
    "1.52194533024 + 2*(-0.00247761)"
   ]
  },
  {
   "cell_type": "markdown",
   "metadata": {},
   "source": [
    "- Confirm that this is the same value we would get when using the built-in `.predict()` method of the `LinearRegression` object."
   ]
  },
  {
   "cell_type": "code",
   "execution_count": 35,
   "metadata": {},
   "outputs": [
    {
     "data": {
      "text/plain": [
       "array([ 1.51699012])"
      ]
     },
     "execution_count": 35,
     "metadata": {},
     "output_type": "execute_result"
    }
   ],
   "source": [
    "# Compute prediction for al=2 using the predict method.\n",
    "linreg.predict(2)"
   ]
  },
  {
   "cell_type": "markdown",
   "metadata": {},
   "source": [
    "---"
   ]
  },
  {
   "cell_type": "markdown",
   "metadata": {},
   "source": [
    "<a id=\"predicting-a-categorical-response\"></a>\n",
    "## Predicting a Single Categorical Response\n",
    "---\n",
    "\n",
    "Linear regression is appropriate when we want to predict the value of a continuous target/response variable, but what about when we want to predict membership in a class or category?\n",
    "\n",
    "**Examine the glass type column in the data set. What are the counts in each category?**"
   ]
  },
  {
   "cell_type": "code",
   "execution_count": 54,
   "metadata": {},
   "outputs": [
    {
     "data": {
      "text/plain": [
       "2    76\n",
       "1    70\n",
       "7    29\n",
       "3    17\n",
       "5    13\n",
       "6     9\n",
       "Name: glass_type, dtype: int64"
      ]
     },
     "execution_count": 54,
     "metadata": {},
     "output_type": "execute_result"
    }
   ],
   "source": [
    "# Examine glass_type.\n",
    "glass.loc[:, 'glass_type'].value_counts()"
   ]
  },
  {
   "cell_type": "markdown",
   "metadata": {},
   "source": [
    "Say these types are subdivisions of broader glass types:\n",
    "\n",
    "> **Window glass:** types 1, 2, and 3\n",
    "\n",
    "> **Household glass:** types 5, 6, and 7\n",
    "\n",
    "**Create a new `household` column that indicates whether or not a row is household glass, coded as 1 or 0, respectively.**"
   ]
  },
  {
   "cell_type": "code",
   "execution_count": 58,
   "metadata": {},
   "outputs": [
    {
     "data": {
      "text/plain": [
       "0    163\n",
       "1     51\n",
       "Name: household, dtype: int64"
      ]
     },
     "execution_count": 58,
     "metadata": {},
     "output_type": "execute_result"
    }
   ],
   "source": [
    "# Logistic Regression can only answer Yes/No Questions\n",
    "# Types 1, 2, 3 are window glass.\n",
    "# Types 5, 6, 7 are household glass.\n",
    "# 1 for yes, 0 for no\n",
    "\n",
    "glass.loc[:, 'household'] = glass.loc[:, 'glass_type'].map({1:0, 2:0, 3:0, 5:1, 6:1, 7:1})\n",
    "glass.loc[:, 'household'].value_counts()"
   ]
  },
  {
   "cell_type": "markdown",
   "metadata": {},
   "source": [
    "Let's change our task, so that we're predicting the `household` category using `al`. Let's visualize the relationship to figure out how to do this.\n",
    "\n",
    "**Make a scatter plot comparing `al` and `household`.**"
   ]
  },
  {
   "cell_type": "code",
   "execution_count": 62,
   "metadata": {},
   "outputs": [
    {
     "data": {
      "image/png": "[encoded data removed]",
      "text/plain": [
       "<matplotlib.figure.Figure at 0x113b1e208>"
      ]
     },
     "metadata": {},
     "output_type": "display_data"
    }
   ],
   "source": [
    "plt.scatter(glass.loc[:, 'al'], glass.loc[:, 'household'])\n",
    "plt.xlabel('al')\n",
    "plt.ylabel('household');\n",
    "\n",
    "#we can see that there's higher 'al' in household glass"
   ]
  },
  {
   "cell_type": "markdown",
   "metadata": {},
   "source": [
    "**Fit a new `LinearRegression` predicting `household` from `al`.**\n",
    "\n",
    "Let's draw a regression line like we did before:"
   ]
  },
  {
   "cell_type": "code",
   "execution_count": 66,
   "metadata": {
    "scrolled": true
   },
   "outputs": [],
   "source": [
    "# Fit a linear regression model and store the predictions.  \n",
    "# SORT OF THE WRONG WAY OF DOING THIS\n",
    "\n",
    "feature_cols = ['al']\n",
    "X = glass.loc[:, feature_cols] \n",
    "y = glass.loc[:, 'household']\n",
    "\n",
    "linreg = LinearRegression()\n",
    "linreg.fit(X,y)\n",
    "\n",
    "glass.loc[:, 'household_pred'] = linreg.predict(X)"
   ]
  },
  {
   "cell_type": "code",
   "execution_count": 70,
   "metadata": {
    "scrolled": true
   },
   "outputs": [
    {
     "data": {
      "text/plain": [
       "Text(0,0.5,'household')"
      ]
     },
     "execution_count": 70,
     "metadata": {},
     "output_type": "execute_result"
    },
    {
     "data": {
      "image/png": "[encoded data removed]",
      "text/plain": [
       "<matplotlib.figure.Figure at 0x114c81d68>"
      ]
     },
     "metadata": {},
     "output_type": "display_data"
    }
   ],
   "source": [
    "# Scatter plot that includes the regression line\n",
    "plt.scatter(glass.loc[:, 'al'], glass.loc[:, 'household'], alpha=.2)\n",
    "plt.plot(glass.loc[:, 'al'], glass.loc[:, 'household_pred'], color='red')\n",
    "plt.xlabel('al')\n",
    "plt.ylabel('household')"
   ]
  },
  {
   "cell_type": "markdown",
   "metadata": {},
   "source": [
    "If **al=3**, what class do we predict for household? **1**\n",
    "\n",
    "If **al=1.5**, what class do we predict for household? **0**\n",
    "\n",
    "We predict the 0 class for **lower** values of al, and the 1 class for **higher** values of al. What's our cutoff value? Around **al=2**, because that's where the linear regression line crosses the midpoint between predicting class 0 and class 1.\n",
    "\n",
    "Therefore, we'll say that if **household_pred >= 0.5**, we predict a class of **1**, else we predict a class of **0**."
   ]
  },
  {
   "cell_type": "markdown",
   "metadata": {},
   "source": [
    "**Using this threshold, create a new column of our predictions for whether a row is household glass.**"
   ]
  },
  {
   "cell_type": "code",
   "execution_count": 72,
   "metadata": {},
   "outputs": [
    {
     "data": {
      "text/plain": [
       "array(['small', 'BIG', 'small'],\n",
       "      dtype='<U5')"
      ]
     },
     "execution_count": 72,
     "metadata": {},
     "output_type": "execute_result"
    }
   ],
   "source": [
    "# np.where returns the first value if the condition is True,\n",
    "# and the second value if the condition is False.\n",
    "\n",
    "import numpy as np\n",
    "\n",
    "nums = np.array([5, 15, 8])\n",
    "\n",
    "np.where(nums > 10, 'BIG', 'small')\n",
    "\n"
   ]
  },
  {
   "cell_type": "code",
   "execution_count": 77,
   "metadata": {
    "scrolled": true
   },
   "outputs": [
    {
     "data": {
      "text/html": [
       "<div>\n",
       "<style>\n",
       "    .dataframe thead tr:only-child th {\n",
       "        text-align: right;\n",
       "    }\n",
       "\n",
       "    .dataframe thead th {\n",
       "        text-align: left;\n",
       "    }\n",
       "\n",
       "    .dataframe tbody tr th {\n",
       "        vertical-align: top;\n",
       "    }\n",
       "</style>\n",
       "<table border=\"1\" class=\"dataframe\">\n",
       "  <thead>\n",
       "    <tr style=\"text-align: right;\">\n",
       "      <th></th>\n",
       "      <th>ri</th>\n",
       "      <th>na</th>\n",
       "      <th>mg</th>\n",
       "      <th>al</th>\n",
       "      <th>si</th>\n",
       "      <th>k</th>\n",
       "      <th>ca</th>\n",
       "      <th>ba</th>\n",
       "      <th>fe</th>\n",
       "      <th>glass_type</th>\n",
       "      <th>prediction</th>\n",
       "      <th>predictions</th>\n",
       "      <th>household</th>\n",
       "      <th>household_pred</th>\n",
       "      <th>household_pred_class</th>\n",
       "    </tr>\n",
       "  </thead>\n",
       "  <tbody>\n",
       "    <tr>\n",
       "      <th>209</th>\n",
       "      <td>1.51623</td>\n",
       "      <td>14.14</td>\n",
       "      <td>0.0</td>\n",
       "      <td>2.88</td>\n",
       "      <td>72.61</td>\n",
       "      <td>0.08</td>\n",
       "      <td>9.18</td>\n",
       "      <td>1.06</td>\n",
       "      <td>0.0</td>\n",
       "      <td>7</td>\n",
       "      <td>1.514810</td>\n",
       "      <td>1.514810</td>\n",
       "      <td>1</td>\n",
       "      <td>0.957554</td>\n",
       "      <td>1</td>\n",
       "    </tr>\n",
       "    <tr>\n",
       "      <th>210</th>\n",
       "      <td>1.51685</td>\n",
       "      <td>14.92</td>\n",
       "      <td>0.0</td>\n",
       "      <td>1.99</td>\n",
       "      <td>73.06</td>\n",
       "      <td>0.00</td>\n",
       "      <td>8.40</td>\n",
       "      <td>1.59</td>\n",
       "      <td>0.0</td>\n",
       "      <td>7</td>\n",
       "      <td>1.517015</td>\n",
       "      <td>1.517015</td>\n",
       "      <td>1</td>\n",
       "      <td>0.511506</td>\n",
       "      <td>1</td>\n",
       "    </tr>\n",
       "    <tr>\n",
       "      <th>211</th>\n",
       "      <td>1.52065</td>\n",
       "      <td>14.36</td>\n",
       "      <td>0.0</td>\n",
       "      <td>2.02</td>\n",
       "      <td>73.42</td>\n",
       "      <td>0.00</td>\n",
       "      <td>8.44</td>\n",
       "      <td>1.64</td>\n",
       "      <td>0.0</td>\n",
       "      <td>7</td>\n",
       "      <td>1.516941</td>\n",
       "      <td>1.516941</td>\n",
       "      <td>1</td>\n",
       "      <td>0.526541</td>\n",
       "      <td>1</td>\n",
       "    </tr>\n",
       "    <tr>\n",
       "      <th>212</th>\n",
       "      <td>1.51651</td>\n",
       "      <td>14.38</td>\n",
       "      <td>0.0</td>\n",
       "      <td>1.94</td>\n",
       "      <td>73.61</td>\n",
       "      <td>0.00</td>\n",
       "      <td>8.48</td>\n",
       "      <td>1.57</td>\n",
       "      <td>0.0</td>\n",
       "      <td>7</td>\n",
       "      <td>1.517139</td>\n",
       "      <td>1.517139</td>\n",
       "      <td>1</td>\n",
       "      <td>0.486447</td>\n",
       "      <td>0</td>\n",
       "    </tr>\n",
       "    <tr>\n",
       "      <th>213</th>\n",
       "      <td>1.51711</td>\n",
       "      <td>14.23</td>\n",
       "      <td>0.0</td>\n",
       "      <td>2.08</td>\n",
       "      <td>73.36</td>\n",
       "      <td>0.00</td>\n",
       "      <td>8.62</td>\n",
       "      <td>1.67</td>\n",
       "      <td>0.0</td>\n",
       "      <td>7</td>\n",
       "      <td>1.516792</td>\n",
       "      <td>1.516792</td>\n",
       "      <td>1</td>\n",
       "      <td>0.556612</td>\n",
       "      <td>1</td>\n",
       "    </tr>\n",
       "  </tbody>\n",
       "</table>\n",
       "</div>"
      ],
      "text/plain": [
       "          ri     na   mg    al     si     k    ca    ba   fe  glass_type  \\\n",
       "209  1.51623  14.14  0.0  2.88  72.61  0.08  9.18  1.06  0.0           7   \n",
       "210  1.51685  14.92  0.0  1.99  73.06  0.00  8.40  1.59  0.0           7   \n",
       "211  1.52065  14.36  0.0  2.02  73.42  0.00  8.44  1.64  0.0           7   \n",
       "212  1.51651  14.38  0.0  1.94  73.61  0.00  8.48  1.57  0.0           7   \n",
       "213  1.51711  14.23  0.0  2.08  73.36  0.00  8.62  1.67  0.0           7   \n",
       "\n",
       "     prediction  predictions  household  household_pred  household_pred_class  \n",
       "209    1.514810     1.514810          1        0.957554                     1  \n",
       "210    1.517015     1.517015          1        0.511506                     1  \n",
       "211    1.516941     1.516941          1        0.526541                     1  \n",
       "212    1.517139     1.517139          1        0.486447                     0  \n",
       "213    1.516792     1.516792          1        0.556612                     1  "
      ]
     },
     "execution_count": 77,
     "metadata": {},
     "output_type": "execute_result"
    }
   ],
   "source": [
    "# Transform household_pred to 1 or 0.\n",
    "glass.loc[:, 'household_pred_class'] = np.where(glass.loc[:, 'household_pred']>= 0.5, 1, 0)\n",
    "glass.tail()"
   ]
  },
  {
   "cell_type": "markdown",
   "metadata": {},
   "source": [
    "**Plot a line that shows our predictions for class membership in household vs. not.**"
   ]
  },
  {
   "cell_type": "code",
   "execution_count": 80,
   "metadata": {},
   "outputs": [
    {
     "data": {
      "text/plain": [
       "[<matplotlib.lines.Line2D at 0x1a19428c50>]"
      ]
     },
     "execution_count": 80,
     "metadata": {},
     "output_type": "execute_result"
    },
    {
     "data": {
      "image/png": "[encoded data removed]",
      "text/plain": [
       "<matplotlib.figure.Figure at 0x1a192b1a20>"
      ]
     },
     "metadata": {},
     "output_type": "display_data"
    }
   ],
   "source": [
    "glass.sort_values('al', inplace=True)\n",
    "plt.scatter(glass.loc[:, 'al'], glass.loc[:, 'household'])\n",
    "plt.xlabel('al')\n",
    "plt.ylabel('household')\n",
    "\n",
    "glass.sort_values('al', inplace=True)\n",
    "plt.plot(glass.loc[:, 'al'], glass.loc[:, 'household_pred_class'], color='red')"
   ]
  },
  {
   "cell_type": "markdown",
   "metadata": {},
   "source": [
    "Linear regression yields a reasonable binary classifier in this case when we map values above 0.5 to 1 and values below 0.5 to 0.\n",
    "\n",
    "It would be nice if we could also interpret the raw numbers it gives us, e.g. as probabilities. The problem is that linear regression is unbounded. As a result, it gives values below 0 and above 1, which cannot be probabilities.\n",
    "\n",
    "This is where logistic regression comes in: it basically takes that linear regression line and bends its ends into an S-shape so that it always stays between 0 and 1, so that we can interpret its outputs as probabilities."
   ]
  },
  {
   "cell_type": "markdown",
   "metadata": {},
   "source": [
    "<a id=\"using-logistic-regression-for-classification\"></a>\n",
    "## Using Logistic Regression for Classification\n",
    "---\n",
    "\n",
    "**Import the `LogisticRegression` class from `linear_model` below and fit the same regression model predicting `household` from `al`.**"
   ]
  },
  {
   "cell_type": "code",
   "execution_count": 83,
   "metadata": {
    "collapsed": true
   },
   "outputs": [],
   "source": [
    "# Fit a logistic regression model and store the class predictions.\n",
    "\n",
    "from sklearn.linear_model import LogisticRegression\n",
    "\n",
    "logreg = LogisticRegression()\n",
    "\n",
    "feature_cols = ['al']\n",
    "X = glass.loc[:, feature_cols]\n",
    "y = glass.loc[:, 'household']\n",
    "\n",
    "logreg.fit(X,y)\n",
    "glass.loc[:, 'household_pred_logreg'] = logreg.predict(X)"
   ]
  },
  {
   "cell_type": "code",
   "execution_count": 84,
   "metadata": {},
   "outputs": [
    {
     "data": {
      "text/html": [
       "<div>\n",
       "<style>\n",
       "    .dataframe thead tr:only-child th {\n",
       "        text-align: right;\n",
       "    }\n",
       "\n",
       "    .dataframe thead th {\n",
       "        text-align: left;\n",
       "    }\n",
       "\n",
       "    .dataframe tbody tr th {\n",
       "        vertical-align: top;\n",
       "    }\n",
       "</style>\n",
       "<table border=\"1\" class=\"dataframe\">\n",
       "  <thead>\n",
       "    <tr style=\"text-align: right;\">\n",
       "      <th></th>\n",
       "      <th>ri</th>\n",
       "      <th>na</th>\n",
       "      <th>mg</th>\n",
       "      <th>al</th>\n",
       "      <th>si</th>\n",
       "      <th>k</th>\n",
       "      <th>ca</th>\n",
       "      <th>ba</th>\n",
       "      <th>fe</th>\n",
       "      <th>glass_type</th>\n",
       "      <th>prediction</th>\n",
       "      <th>predictions</th>\n",
       "      <th>household</th>\n",
       "      <th>household_pred</th>\n",
       "      <th>household_pred_class</th>\n",
       "      <th>household_pred_logreg</th>\n",
       "    </tr>\n",
       "  </thead>\n",
       "  <tbody>\n",
       "    <tr>\n",
       "      <th>21</th>\n",
       "      <td>1.51966</td>\n",
       "      <td>14.77</td>\n",
       "      <td>3.75</td>\n",
       "      <td>0.29</td>\n",
       "      <td>72.02</td>\n",
       "      <td>0.03</td>\n",
       "      <td>9.00</td>\n",
       "      <td>0.0</td>\n",
       "      <td>0.00</td>\n",
       "      <td>1</td>\n",
       "      <td>1.521227</td>\n",
       "      <td>1.521227</td>\n",
       "      <td>0</td>\n",
       "      <td>-0.340495</td>\n",
       "      <td>0</td>\n",
       "      <td>0</td>\n",
       "    </tr>\n",
       "    <tr>\n",
       "      <th>184</th>\n",
       "      <td>1.51115</td>\n",
       "      <td>17.38</td>\n",
       "      <td>0.00</td>\n",
       "      <td>0.34</td>\n",
       "      <td>75.41</td>\n",
       "      <td>0.00</td>\n",
       "      <td>6.65</td>\n",
       "      <td>0.0</td>\n",
       "      <td>0.00</td>\n",
       "      <td>6</td>\n",
       "      <td>1.521103</td>\n",
       "      <td>1.521103</td>\n",
       "      <td>1</td>\n",
       "      <td>-0.315436</td>\n",
       "      <td>0</td>\n",
       "      <td>0</td>\n",
       "    </tr>\n",
       "    <tr>\n",
       "      <th>39</th>\n",
       "      <td>1.52213</td>\n",
       "      <td>14.21</td>\n",
       "      <td>3.82</td>\n",
       "      <td>0.47</td>\n",
       "      <td>71.77</td>\n",
       "      <td>0.11</td>\n",
       "      <td>9.57</td>\n",
       "      <td>0.0</td>\n",
       "      <td>0.00</td>\n",
       "      <td>1</td>\n",
       "      <td>1.520781</td>\n",
       "      <td>1.520781</td>\n",
       "      <td>0</td>\n",
       "      <td>-0.250283</td>\n",
       "      <td>0</td>\n",
       "      <td>0</td>\n",
       "    </tr>\n",
       "    <tr>\n",
       "      <th>38</th>\n",
       "      <td>1.52213</td>\n",
       "      <td>14.21</td>\n",
       "      <td>3.82</td>\n",
       "      <td>0.47</td>\n",
       "      <td>71.77</td>\n",
       "      <td>0.11</td>\n",
       "      <td>9.57</td>\n",
       "      <td>0.0</td>\n",
       "      <td>0.00</td>\n",
       "      <td>1</td>\n",
       "      <td>1.520781</td>\n",
       "      <td>1.520781</td>\n",
       "      <td>0</td>\n",
       "      <td>-0.250283</td>\n",
       "      <td>0</td>\n",
       "      <td>0</td>\n",
       "    </tr>\n",
       "    <tr>\n",
       "      <th>50</th>\n",
       "      <td>1.52320</td>\n",
       "      <td>13.72</td>\n",
       "      <td>3.72</td>\n",
       "      <td>0.51</td>\n",
       "      <td>71.75</td>\n",
       "      <td>0.09</td>\n",
       "      <td>10.06</td>\n",
       "      <td>0.0</td>\n",
       "      <td>0.16</td>\n",
       "      <td>1</td>\n",
       "      <td>1.520682</td>\n",
       "      <td>1.520682</td>\n",
       "      <td>0</td>\n",
       "      <td>-0.230236</td>\n",
       "      <td>0</td>\n",
       "      <td>0</td>\n",
       "    </tr>\n",
       "  </tbody>\n",
       "</table>\n",
       "</div>"
      ],
      "text/plain": [
       "          ri     na    mg    al     si     k     ca   ba    fe  glass_type  \\\n",
       "21   1.51966  14.77  3.75  0.29  72.02  0.03   9.00  0.0  0.00           1   \n",
       "184  1.51115  17.38  0.00  0.34  75.41  0.00   6.65  0.0  0.00           6   \n",
       "39   1.52213  14.21  3.82  0.47  71.77  0.11   9.57  0.0  0.00           1   \n",
       "38   1.52213  14.21  3.82  0.47  71.77  0.11   9.57  0.0  0.00           1   \n",
       "50   1.52320  13.72  3.72  0.51  71.75  0.09  10.06  0.0  0.16           1   \n",
       "\n",
       "     prediction  predictions  household  household_pred  household_pred_class  \\\n",
       "21     1.521227     1.521227          0       -0.340495                     0   \n",
       "184    1.521103     1.521103          1       -0.315436                     0   \n",
       "39     1.520781     1.520781          0       -0.250283                     0   \n",
       "38     1.520781     1.520781          0       -0.250283                     0   \n",
       "50     1.520682     1.520682          0       -0.230236                     0   \n",
       "\n",
       "     household_pred_logreg  \n",
       "21                       0  \n",
       "184                      0  \n",
       "39                       0  \n",
       "38                       0  \n",
       "50                       0  "
      ]
     },
     "execution_count": 84,
     "metadata": {},
     "output_type": "execute_result"
    }
   ],
   "source": [
    "glass.head()"
   ]
  },
  {
   "cell_type": "markdown",
   "metadata": {},
   "source": [
    "**Plot the predicted class using the logistic regression as we did for the linear regression predictions above.**\n",
    "\n",
    "As you can see, the class predictions are the same."
   ]
  },
  {
   "cell_type": "code",
   "execution_count": 87,
   "metadata": {
    "scrolled": false
   },
   "outputs": [
    {
     "data": {
      "text/plain": [
       "[<matplotlib.lines.Line2D at 0x1a19662630>]"
      ]
     },
     "execution_count": 87,
     "metadata": {},
     "output_type": "execute_result"
    },
    {
     "data": {
      "image/png": "[encoded data removed]",
      "text/plain": [
       "<matplotlib.figure.Figure at 0x1a196628d0>"
      ]
     },
     "metadata": {},
     "output_type": "display_data"
    }
   ],
   "source": [
    "# Plot the class predictions.\n",
    "plt.scatter(glass.loc[:, 'al'], glass.loc[:, 'household'])\n",
    "plt.plot(glass.loc[:, 'al'], glass.loc[:, 'household_pred_logreg'], color='red')"
   ]
  },
  {
   "cell_type": "markdown",
   "metadata": {},
   "source": [
    "What if we wanted the predicted probabilities instead of just the class predictions, to understand how confident we are in a given prediction?\n",
    "\n",
    "**Using the built-in `.predict_proba()` function, examine the predicted probabilities for the first handful of rows of `X`.**"
   ]
  },
  {
   "cell_type": "code",
   "execution_count": 89,
   "metadata": {},
   "outputs": [
    {
     "data": {
      "text/plain": [
       "array([[ 0.97193375,  0.02806625],\n",
       "       [ 0.96905681,  0.03094319],\n",
       "       [ 0.96017962,  0.03982038],\n",
       "       [ 0.96017962,  0.03982038],\n",
       "       [ 0.9569876 ,  0.0430124 ],\n",
       "       [ 0.95265323,  0.04734677],\n",
       "       [ 0.95265323,  0.04734677],\n",
       "       [ 0.95080573,  0.04919427],\n",
       "       [ 0.94378757,  0.05621243],\n",
       "       [ 0.94271112,  0.05728888],\n",
       "       [ 0.94161533,  0.05838467],\n",
       "       [ 0.93703277,  0.06296723],\n",
       "       [ 0.93583576,  0.06416424],\n",
       "       [ 0.93211646,  0.06788354],\n",
       "       [ 0.93211646,  0.06788354],\n",
       "       [ 0.92952688,  0.07047312],\n",
       "       [ 0.92819811,  0.07180189],\n",
       "       [ 0.92684626,  0.07315374],\n",
       "       [ 0.92264896,  0.07735104],\n",
       "       [ 0.9212015 ,  0.0787985 ],\n",
       "       [ 0.9212015 ,  0.0787985 ],\n",
       "       [ 0.91516104,  0.08483896],\n",
       "       [ 0.91516104,  0.08483896],\n",
       "       [ 0.91358659,  0.08641341],\n",
       "       [ 0.91198573,  0.08801427],\n",
       "       [ 0.91035812,  0.08964188],\n",
       "       [ 0.91035812,  0.08964188],\n",
       "       [ 0.90870343,  0.09129657],\n",
       "       [ 0.89253652,  0.10746348],\n",
       "       [ 0.89253652,  0.10746348],\n",
       "       [ 0.88250481,  0.11749519],\n",
       "       [ 0.88040352,  0.11959648],\n",
       "       [ 0.87826983,  0.12173017],\n",
       "       [ 0.87610344,  0.12389656],\n",
       "       [ 0.87167128,  0.12832872],\n",
       "       [ 0.86940491,  0.13059509],\n",
       "       [ 0.86940491,  0.13059509],\n",
       "       [ 0.86940491,  0.13059509],\n",
       "       [ 0.86710462,  0.13289538],\n",
       "       [ 0.86710462,  0.13289538],\n",
       "       [ 0.86710462,  0.13289538],\n",
       "       [ 0.86240111,  0.13759889],\n",
       "       [ 0.86240111,  0.13759889],\n",
       "       [ 0.85999733,  0.14000267],\n",
       "       [ 0.85999733,  0.14000267],\n",
       "       [ 0.85755848,  0.14244152],\n",
       "       [ 0.85755848,  0.14244152],\n",
       "       [ 0.85508431,  0.14491569],\n",
       "       [ 0.85508431,  0.14491569],\n",
       "       [ 0.85257455,  0.14742545],\n",
       "       [ 0.85257455,  0.14742545],\n",
       "       [ 0.85257455,  0.14742545],\n",
       "       [ 0.85002895,  0.14997105],\n",
       "       [ 0.85002895,  0.14997105],\n",
       "       [ 0.85002895,  0.14997105],\n",
       "       [ 0.85002895,  0.14997105],\n",
       "       [ 0.85002895,  0.14997105],\n",
       "       [ 0.85002895,  0.14997105],\n",
       "       [ 0.84744726,  0.15255274],\n",
       "       [ 0.84482923,  0.15517077],\n",
       "       [ 0.84482923,  0.15517077],\n",
       "       [ 0.84217465,  0.15782535],\n",
       "       [ 0.83948328,  0.16051672],\n",
       "       [ 0.83948328,  0.16051672],\n",
       "       [ 0.83948328,  0.16051672],\n",
       "       [ 0.83948328,  0.16051672],\n",
       "       [ 0.83948328,  0.16051672],\n",
       "       [ 0.83675492,  0.16324508],\n",
       "       [ 0.83675492,  0.16324508],\n",
       "       [ 0.83398935,  0.16601065],\n",
       "       [ 0.83398935,  0.16601065],\n",
       "       [ 0.83398935,  0.16601065],\n",
       "       [ 0.83118637,  0.16881363],\n",
       "       [ 0.83118637,  0.16881363],\n",
       "       [ 0.83118637,  0.16881363],\n",
       "       [ 0.82834582,  0.17165418],\n",
       "       [ 0.82834582,  0.17165418],\n",
       "       [ 0.82834582,  0.17165418],\n",
       "       [ 0.8254675 ,  0.1745325 ],\n",
       "       [ 0.8254675 ,  0.1745325 ],\n",
       "       [ 0.8254675 ,  0.1745325 ],\n",
       "       [ 0.8254675 ,  0.1745325 ],\n",
       "       [ 0.82255126,  0.17744874],\n",
       "       [ 0.82255126,  0.17744874],\n",
       "       [ 0.82255126,  0.17744874],\n",
       "       [ 0.82255126,  0.17744874],\n",
       "       [ 0.82255126,  0.17744874],\n",
       "       [ 0.81959694,  0.18040306],\n",
       "       [ 0.81959694,  0.18040306],\n",
       "       [ 0.8166044 ,  0.1833956 ],\n",
       "       [ 0.8166044 ,  0.1833956 ],\n",
       "       [ 0.8166044 ,  0.1833956 ],\n",
       "       [ 0.81357351,  0.18642649],\n",
       "       [ 0.81357351,  0.18642649],\n",
       "       [ 0.81357351,  0.18642649],\n",
       "       [ 0.81050416,  0.18949584],\n",
       "       [ 0.81050416,  0.18949584],\n",
       "       [ 0.81050416,  0.18949584],\n",
       "       [ 0.80739623,  0.19260377],\n",
       "       [ 0.80739623,  0.19260377],\n",
       "       [ 0.80424964,  0.19575036],\n",
       "       [ 0.80424964,  0.19575036],\n",
       "       [ 0.80424964,  0.19575036],\n",
       "       [ 0.80424964,  0.19575036],\n",
       "       [ 0.80106431,  0.19893569],\n",
       "       [ 0.80106431,  0.19893569],\n",
       "       [ 0.80106431,  0.19893569],\n",
       "       [ 0.80106431,  0.19893569],\n",
       "       [ 0.79784018,  0.20215982],\n",
       "       [ 0.7945772 ,  0.2054228 ],\n",
       "       [ 0.7945772 ,  0.2054228 ],\n",
       "       [ 0.78793454,  0.21206546],\n",
       "       [ 0.78793454,  0.21206546],\n",
       "       [ 0.78455484,  0.21544516],\n",
       "       [ 0.78455484,  0.21544516],\n",
       "       [ 0.77767878,  0.22232122],\n",
       "       [ 0.77767878,  0.22232122],\n",
       "       [ 0.77767878,  0.22232122],\n",
       "       [ 0.77767878,  0.22232122],\n",
       "       [ 0.77767878,  0.22232122],\n",
       "       [ 0.77418248,  0.22581752],\n",
       "       [ 0.77418248,  0.22581752],\n",
       "       [ 0.77064741,  0.22935259],\n",
       "       [ 0.76346131,  0.23653869],\n",
       "       [ 0.76346131,  0.23653869],\n",
       "       [ 0.76346131,  0.23653869],\n",
       "       [ 0.75981048,  0.24018952],\n",
       "       [ 0.75981048,  0.24018952],\n",
       "       [ 0.7561213 ,  0.2438787 ],\n",
       "       [ 0.7561213 ,  0.2438787 ],\n",
       "       [ 0.7561213 ,  0.2438787 ],\n",
       "       [ 0.74862851,  0.25137149],\n",
       "       [ 0.74862851,  0.25137149],\n",
       "       [ 0.74482526,  0.25517474],\n",
       "       [ 0.74482526,  0.25517474],\n",
       "       [ 0.74482526,  0.25517474],\n",
       "       [ 0.74098438,  0.25901562],\n",
       "       [ 0.73710609,  0.26289391],\n",
       "       [ 0.73710609,  0.26289391],\n",
       "       [ 0.73710609,  0.26289391],\n",
       "       [ 0.73710609,  0.26289391],\n",
       "       [ 0.73710609,  0.26289391],\n",
       "       [ 0.73710609,  0.26289391],\n",
       "       [ 0.73710609,  0.26289391],\n",
       "       [ 0.73710609,  0.26289391],\n",
       "       [ 0.73319064,  0.26680936],\n",
       "       [ 0.7292383 ,  0.2707617 ],\n",
       "       [ 0.7292383 ,  0.2707617 ],\n",
       "       [ 0.7292383 ,  0.2707617 ],\n",
       "       [ 0.7292383 ,  0.2707617 ],\n",
       "       [ 0.7292383 ,  0.2707617 ],\n",
       "       [ 0.72524935,  0.27475065],\n",
       "       [ 0.72524935,  0.27475065],\n",
       "       [ 0.72122409,  0.27877591],\n",
       "       [ 0.72122409,  0.27877591],\n",
       "       [ 0.7089339 ,  0.2910661 ],\n",
       "       [ 0.70476692,  0.29523308],\n",
       "       [ 0.70476692,  0.29523308],\n",
       "       [ 0.70476692,  0.29523308],\n",
       "       [ 0.70056548,  0.29943452],\n",
       "       [ 0.70056548,  0.29943452],\n",
       "       [ 0.70056548,  0.29943452],\n",
       "       [ 0.69633002,  0.30366998],\n",
       "       [ 0.69206097,  0.30793903],\n",
       "       [ 0.68775883,  0.31224117],\n",
       "       [ 0.68342407,  0.31657593],\n",
       "       [ 0.67465881,  0.32534119],\n",
       "       [ 0.66576954,  0.33423046],\n",
       "       [ 0.66576954,  0.33423046],\n",
       "       [ 0.65221348,  0.34778652],\n",
       "       [ 0.65221348,  0.34778652],\n",
       "       [ 0.64303542,  0.35696458],\n",
       "       [ 0.64303542,  0.35696458],\n",
       "       [ 0.62907102,  0.37092898],\n",
       "       [ 0.62907102,  0.37092898],\n",
       "       [ 0.62436651,  0.37563349],\n",
       "       [ 0.6196384 ,  0.3803616 ],\n",
       "       [ 0.6196384 ,  0.3803616 ],\n",
       "       [ 0.6148875 ,  0.3851125 ],\n",
       "       [ 0.61011458,  0.38988542],\n",
       "       [ 0.5956721 ,  0.4043279 ],\n",
       "       [ 0.59081952,  0.40918048],\n",
       "       [ 0.59081952,  0.40918048],\n",
       "       [ 0.58594918,  0.41405082],\n",
       "       [ 0.57615882,  0.42384118],\n",
       "       [ 0.55640511,  0.44359489],\n",
       "       [ 0.53647142,  0.46352858],\n",
       "       [ 0.53146719,  0.46853281],\n",
       "       [ 0.53146719,  0.46853281],\n",
       "       [ 0.52645662,  0.47354338],\n",
       "       [ 0.5164205 ,  0.4835795 ],\n",
       "       [ 0.49631656,  0.50368344],\n",
       "       [ 0.48626499,  0.51373501],\n",
       "       [ 0.48626499,  0.51373501],\n",
       "       [ 0.48124287,  0.51875713],\n",
       "       [ 0.47622453,  0.52377547],\n",
       "       [ 0.46620324,  0.53379676],\n",
       "       [ 0.44128637,  0.55871363],\n",
       "       [ 0.41666172,  0.58333828],\n",
       "       [ 0.40207605,  0.59792395],\n",
       "       [ 0.392446  ,  0.607554  ],\n",
       "       [ 0.35943632,  0.64056368],\n",
       "       [ 0.34113258,  0.65886742],\n",
       "       [ 0.3232905 ,  0.6767095 ],\n",
       "       [ 0.28502311,  0.71497689],\n",
       "       [ 0.27288986,  0.72711014],\n",
       "       [ 0.22770273,  0.77229727],\n",
       "       [ 0.22070745,  0.77929255],\n",
       "       [ 0.20065464,  0.79934536],\n",
       "       [ 0.18501129,  0.81498871],\n",
       "       [ 0.1592597 ,  0.8407403 ],\n",
       "       [ 0.12506835,  0.87493165],\n",
       "       [ 0.12073321,  0.87926679],\n",
       "       [ 0.05163396,  0.94836604]])"
      ]
     },
     "execution_count": 89,
     "metadata": {},
     "output_type": "execute_result"
    }
   ],
   "source": [
    "# get probabilities using .predict_proba()\n",
    "# returns 2 columns\n",
    "# probability assigned to 0 vs 1\n",
    "# windows vs household glass\n",
    "\n",
    "logreg.predict_proba(X)"
   ]
  },
  {
   "cell_type": "markdown",
   "metadata": {},
   "source": [
    "Sklearn orders the columns according to our class labels. The two-column output of `predict_proba` returns a column for each class of our `household` variable. The first column is the probability of `household=0` for a given row, and the second column is the probability of `household=1`.\n",
    "\n",
    "**Store the predicted probabilities of class=1 in its own column in the data set.**"
   ]
  },
  {
   "cell_type": "code",
   "execution_count": 91,
   "metadata": {},
   "outputs": [],
   "source": [
    "# Store the predicted probabilities of class 1.\n",
    "\n",
    "glass.loc[:, 'household_pred_prob'] = logreg.predict_proba(X)[:, 1]"
   ]
  },
  {
   "cell_type": "code",
   "execution_count": 92,
   "metadata": {},
   "outputs": [
    {
     "data": {
      "text/html": [
       "<div>\n",
       "<style>\n",
       "    .dataframe thead tr:only-child th {\n",
       "        text-align: right;\n",
       "    }\n",
       "\n",
       "    .dataframe thead th {\n",
       "        text-align: left;\n",
       "    }\n",
       "\n",
       "    .dataframe tbody tr th {\n",
       "        vertical-align: top;\n",
       "    }\n",
       "</style>\n",
       "<table border=\"1\" class=\"dataframe\">\n",
       "  <thead>\n",
       "    <tr style=\"text-align: right;\">\n",
       "      <th></th>\n",
       "      <th>ri</th>\n",
       "      <th>na</th>\n",
       "      <th>mg</th>\n",
       "      <th>al</th>\n",
       "      <th>si</th>\n",
       "      <th>k</th>\n",
       "      <th>ca</th>\n",
       "      <th>ba</th>\n",
       "      <th>fe</th>\n",
       "      <th>glass_type</th>\n",
       "      <th>prediction</th>\n",
       "      <th>predictions</th>\n",
       "      <th>household</th>\n",
       "      <th>household_pred</th>\n",
       "      <th>household_pred_class</th>\n",
       "      <th>household_pred_logreg</th>\n",
       "      <th>household_pred_prob</th>\n",
       "    </tr>\n",
       "  </thead>\n",
       "  <tbody>\n",
       "    <tr>\n",
       "      <th>21</th>\n",
       "      <td>1.51966</td>\n",
       "      <td>14.77</td>\n",
       "      <td>3.75</td>\n",
       "      <td>0.29</td>\n",
       "      <td>72.02</td>\n",
       "      <td>0.03</td>\n",
       "      <td>9.00</td>\n",
       "      <td>0.0</td>\n",
       "      <td>0.00</td>\n",
       "      <td>1</td>\n",
       "      <td>1.521227</td>\n",
       "      <td>1.521227</td>\n",
       "      <td>0</td>\n",
       "      <td>-0.340495</td>\n",
       "      <td>0</td>\n",
       "      <td>0</td>\n",
       "      <td>0.028066</td>\n",
       "    </tr>\n",
       "    <tr>\n",
       "      <th>184</th>\n",
       "      <td>1.51115</td>\n",
       "      <td>17.38</td>\n",
       "      <td>0.00</td>\n",
       "      <td>0.34</td>\n",
       "      <td>75.41</td>\n",
       "      <td>0.00</td>\n",
       "      <td>6.65</td>\n",
       "      <td>0.0</td>\n",
       "      <td>0.00</td>\n",
       "      <td>6</td>\n",
       "      <td>1.521103</td>\n",
       "      <td>1.521103</td>\n",
       "      <td>1</td>\n",
       "      <td>-0.315436</td>\n",
       "      <td>0</td>\n",
       "      <td>0</td>\n",
       "      <td>0.030943</td>\n",
       "    </tr>\n",
       "    <tr>\n",
       "      <th>39</th>\n",
       "      <td>1.52213</td>\n",
       "      <td>14.21</td>\n",
       "      <td>3.82</td>\n",
       "      <td>0.47</td>\n",
       "      <td>71.77</td>\n",
       "      <td>0.11</td>\n",
       "      <td>9.57</td>\n",
       "      <td>0.0</td>\n",
       "      <td>0.00</td>\n",
       "      <td>1</td>\n",
       "      <td>1.520781</td>\n",
       "      <td>1.520781</td>\n",
       "      <td>0</td>\n",
       "      <td>-0.250283</td>\n",
       "      <td>0</td>\n",
       "      <td>0</td>\n",
       "      <td>0.039820</td>\n",
       "    </tr>\n",
       "    <tr>\n",
       "      <th>38</th>\n",
       "      <td>1.52213</td>\n",
       "      <td>14.21</td>\n",
       "      <td>3.82</td>\n",
       "      <td>0.47</td>\n",
       "      <td>71.77</td>\n",
       "      <td>0.11</td>\n",
       "      <td>9.57</td>\n",
       "      <td>0.0</td>\n",
       "      <td>0.00</td>\n",
       "      <td>1</td>\n",
       "      <td>1.520781</td>\n",
       "      <td>1.520781</td>\n",
       "      <td>0</td>\n",
       "      <td>-0.250283</td>\n",
       "      <td>0</td>\n",
       "      <td>0</td>\n",
       "      <td>0.039820</td>\n",
       "    </tr>\n",
       "    <tr>\n",
       "      <th>50</th>\n",
       "      <td>1.52320</td>\n",
       "      <td>13.72</td>\n",
       "      <td>3.72</td>\n",
       "      <td>0.51</td>\n",
       "      <td>71.75</td>\n",
       "      <td>0.09</td>\n",
       "      <td>10.06</td>\n",
       "      <td>0.0</td>\n",
       "      <td>0.16</td>\n",
       "      <td>1</td>\n",
       "      <td>1.520682</td>\n",
       "      <td>1.520682</td>\n",
       "      <td>0</td>\n",
       "      <td>-0.230236</td>\n",
       "      <td>0</td>\n",
       "      <td>0</td>\n",
       "      <td>0.043012</td>\n",
       "    </tr>\n",
       "    <tr>\n",
       "      <th>183</th>\n",
       "      <td>1.51969</td>\n",
       "      <td>14.56</td>\n",
       "      <td>0.00</td>\n",
       "      <td>0.56</td>\n",
       "      <td>73.48</td>\n",
       "      <td>0.00</td>\n",
       "      <td>11.22</td>\n",
       "      <td>0.0</td>\n",
       "      <td>0.00</td>\n",
       "      <td>6</td>\n",
       "      <td>1.520558</td>\n",
       "      <td>1.520558</td>\n",
       "      <td>1</td>\n",
       "      <td>-0.205177</td>\n",
       "      <td>0</td>\n",
       "      <td>0</td>\n",
       "      <td>0.047347</td>\n",
       "    </tr>\n",
       "    <tr>\n",
       "      <th>109</th>\n",
       "      <td>1.51818</td>\n",
       "      <td>13.72</td>\n",
       "      <td>0.00</td>\n",
       "      <td>0.56</td>\n",
       "      <td>74.45</td>\n",
       "      <td>0.00</td>\n",
       "      <td>10.99</td>\n",
       "      <td>0.0</td>\n",
       "      <td>0.00</td>\n",
       "      <td>2</td>\n",
       "      <td>1.520558</td>\n",
       "      <td>1.520558</td>\n",
       "      <td>0</td>\n",
       "      <td>-0.205177</td>\n",
       "      <td>0</td>\n",
       "      <td>0</td>\n",
       "      <td>0.047347</td>\n",
       "    </tr>\n",
       "    <tr>\n",
       "      <th>157</th>\n",
       "      <td>1.52121</td>\n",
       "      <td>14.03</td>\n",
       "      <td>3.76</td>\n",
       "      <td>0.58</td>\n",
       "      <td>71.79</td>\n",
       "      <td>0.11</td>\n",
       "      <td>9.65</td>\n",
       "      <td>0.0</td>\n",
       "      <td>0.00</td>\n",
       "      <td>3</td>\n",
       "      <td>1.520508</td>\n",
       "      <td>1.520508</td>\n",
       "      <td>0</td>\n",
       "      <td>-0.195154</td>\n",
       "      <td>0</td>\n",
       "      <td>0</td>\n",
       "      <td>0.049194</td>\n",
       "    </tr>\n",
       "    <tr>\n",
       "      <th>152</th>\n",
       "      <td>1.51779</td>\n",
       "      <td>13.64</td>\n",
       "      <td>3.65</td>\n",
       "      <td>0.65</td>\n",
       "      <td>73.00</td>\n",
       "      <td>0.06</td>\n",
       "      <td>8.93</td>\n",
       "      <td>0.0</td>\n",
       "      <td>0.00</td>\n",
       "      <td>3</td>\n",
       "      <td>1.520335</td>\n",
       "      <td>1.520335</td>\n",
       "      <td>0</td>\n",
       "      <td>-0.160071</td>\n",
       "      <td>0</td>\n",
       "      <td>0</td>\n",
       "      <td>0.056212</td>\n",
       "    </tr>\n",
       "    <tr>\n",
       "      <th>103</th>\n",
       "      <td>1.52725</td>\n",
       "      <td>13.80</td>\n",
       "      <td>3.15</td>\n",
       "      <td>0.66</td>\n",
       "      <td>70.57</td>\n",
       "      <td>0.08</td>\n",
       "      <td>11.64</td>\n",
       "      <td>0.0</td>\n",
       "      <td>0.00</td>\n",
       "      <td>2</td>\n",
       "      <td>1.520310</td>\n",
       "      <td>1.520310</td>\n",
       "      <td>0</td>\n",
       "      <td>-0.155059</td>\n",
       "      <td>0</td>\n",
       "      <td>0</td>\n",
       "      <td>0.057289</td>\n",
       "    </tr>\n",
       "  </tbody>\n",
       "</table>\n",
       "</div>"
      ],
      "text/plain": [
       "          ri     na    mg    al     si     k     ca   ba    fe  glass_type  \\\n",
       "21   1.51966  14.77  3.75  0.29  72.02  0.03   9.00  0.0  0.00           1   \n",
       "184  1.51115  17.38  0.00  0.34  75.41  0.00   6.65  0.0  0.00           6   \n",
       "39   1.52213  14.21  3.82  0.47  71.77  0.11   9.57  0.0  0.00           1   \n",
       "38   1.52213  14.21  3.82  0.47  71.77  0.11   9.57  0.0  0.00           1   \n",
       "50   1.52320  13.72  3.72  0.51  71.75  0.09  10.06  0.0  0.16           1   \n",
       "183  1.51969  14.56  0.00  0.56  73.48  0.00  11.22  0.0  0.00           6   \n",
       "109  1.51818  13.72  0.00  0.56  74.45  0.00  10.99  0.0  0.00           2   \n",
       "157  1.52121  14.03  3.76  0.58  71.79  0.11   9.65  0.0  0.00           3   \n",
       "152  1.51779  13.64  3.65  0.65  73.00  0.06   8.93  0.0  0.00           3   \n",
       "103  1.52725  13.80  3.15  0.66  70.57  0.08  11.64  0.0  0.00           2   \n",
       "\n",
       "     prediction  predictions  household  household_pred  household_pred_class  \\\n",
       "21     1.521227     1.521227          0       -0.340495                     0   \n",
       "184    1.521103     1.521103          1       -0.315436                     0   \n",
       "39     1.520781     1.520781          0       -0.250283                     0   \n",
       "38     1.520781     1.520781          0       -0.250283                     0   \n",
       "50     1.520682     1.520682          0       -0.230236                     0   \n",
       "183    1.520558     1.520558          1       -0.205177                     0   \n",
       "109    1.520558     1.520558          0       -0.205177                     0   \n",
       "157    1.520508     1.520508          0       -0.195154                     0   \n",
       "152    1.520335     1.520335          0       -0.160071                     0   \n",
       "103    1.520310     1.520310          0       -0.155059                     0   \n",
       "\n",
       "     household_pred_logreg  household_pred_prob  \n",
       "21                       0             0.028066  \n",
       "184                      0             0.030943  \n",
       "39                       0             0.039820  \n",
       "38                       0             0.039820  \n",
       "50                       0             0.043012  \n",
       "183                      0             0.047347  \n",
       "109                      0             0.047347  \n",
       "157                      0             0.049194  \n",
       "152                      0             0.056212  \n",
       "103                      0             0.057289  "
      ]
     },
     "execution_count": 92,
     "metadata": {},
     "output_type": "execute_result"
    }
   ],
   "source": [
    "glass.head(10)"
   ]
  },
  {
   "cell_type": "markdown",
   "metadata": {},
   "source": [
    "**Plot the predicted probabilities as a line on our plot (probability of `household=1` as `al` changes).**"
   ]
  },
  {
   "cell_type": "code",
   "execution_count": 95,
   "metadata": {},
   "outputs": [
    {
     "data": {
      "text/plain": [
       "[<matplotlib.lines.Line2D at 0x1a1998c940>]"
      ]
     },
     "execution_count": 95,
     "metadata": {},
     "output_type": "execute_result"
    },
    {
     "data": {
      "image/png": "[encoded data removed]",
      "text/plain": [
       "<matplotlib.figure.Figure at 0x1a1998c0b8>"
      ]
     },
     "metadata": {},
     "output_type": "display_data"
    }
   ],
   "source": [
    "# Plot the predicted probabilities.  You get the nice S shape \n",
    "\n",
    "plt.scatter(glass.loc[:, 'al'], glass.loc[:, 'household'])\n",
    "plt.plot(glass.loc[:, 'al'], glass.loc[:, 'household_pred_prob'], color='red')"
   ]
  },
  {
   "cell_type": "code",
   "execution_count": 99,
   "metadata": {},
   "outputs": [
    {
     "name": "stdout",
     "output_type": "stream",
     "text": [
      "[[ 0.89253652  0.10746348]]\n",
      "[[ 0.52645662  0.47354338]]\n",
      "[[ 0.12953623  0.87046377]]\n"
     ]
    }
   ],
   "source": [
    "# Examine some example predictions.\n",
    "print(logreg.predict_proba(1))\n",
    "\n",
    "#89% that it's 0 = Window, not household\n",
    "\n",
    "print(logreg.predict_proba(2))\n",
    "print(logreg.predict_proba(3))"
   ]
  },
  {
   "cell_type": "markdown",
   "metadata": {},
   "source": [
    "**Exercise**\n",
    "\n",
    "- Build a logistic regression model for `household` using two features of your choice.\n",
    "- Do a simple train-test split on `glass`.\n",
    "- Train your model on the training set and evaluate it with `model.score` on the test set.\n",
    "\n",
    "**Bonus**\n",
    "\n",
    "Try out different sets of features to see which give the best results."
   ]
  },
  {
   "cell_type": "code",
   "execution_count": 113,
   "metadata": {},
   "outputs": [],
   "source": [
    "from sklearn.linear_model import LogisticRegression\n",
    "from sklearn.model_selection import train_test_split\n",
    "from sklearn import metrics\n",
    "\n",
    "feature_cols = ['na', 'mg']\n",
    "X = glass.loc[:, feature_cols]\n",
    "y = glass.loc[:, 'household']\n",
    "\n",
    "X_train, X_test, y_train, y_test = train_test_split(X,y)\n",
    "\n",
    "logreg = LogisticRegression()\n",
    "logreg.fit(X_train,y_train)\n",
    "\n",
    "y_pred_logpred_red_namg = logreg.predict(X_test)\n",
    "#glass.loc[:, 'household_pred_logreg'] = logreg.predict(X)"
   ]
  },
  {
   "cell_type": "code",
   "execution_count": 114,
   "metadata": {},
   "outputs": [
    {
     "data": {
      "text/plain": [
       "array([0, 0, 0, 0, 0, 1, 0, 1, 1, 0, 0, 0, 0, 0, 0, 1, 0, 0, 0, 0, 1, 1, 0,\n",
       "       0, 1, 0, 0, 0, 0, 1, 0, 0, 0, 1, 0, 1, 0, 0, 0, 0, 0, 0, 1, 0, 0, 0,\n",
       "       0, 0, 0, 1, 0, 1, 0, 0])"
      ]
     },
     "execution_count": 114,
     "metadata": {},
     "output_type": "execute_result"
    }
   ],
   "source": [
    "y_pred_logpred_red_namg"
   ]
  },
  {
   "cell_type": "code",
   "execution_count": 119,
   "metadata": {},
   "outputs": [
    {
     "name": "stdout",
     "output_type": "stream",
     "text": [
      "0.888888888889\n",
      "0.888888888889\n"
     ]
    }
   ],
   "source": [
    "#model score\n",
    "print(metrics.accuracy_score(y_test, y_pred_logpred_red_namg))\n",
    "print(logreg.score(X_test, y_test))"
   ]
  },
  {
   "cell_type": "markdown",
   "metadata": {},
   "source": [
    "<a id=\"probability-odds-ratio-e-log-and-log-odds\"></a>\n",
    "## Understanding Logistic Regression\n",
    "---\n",
    "\n",
    "**Recall:** A coefficient in a *linear regression* model tells you how the *number* predicted by the model changes when the associated variable increases by one and all other variables remain the same.\n",
    "\n",
    "**Similarly**, A coefficient in a *logistic regression* model tells you how the *log odds* predicted by the model changes when the associated variable increases by one and all other variables remain the same."
   ]
  },
  {
   "cell_type": "markdown",
   "metadata": {},
   "source": [
    "Let's try to develop some intuitions about log odds to help us reason about our logistic regression models."
   ]
  },
  {
   "cell_type": "markdown",
   "metadata": {},
   "source": [
    "#### Odds"
   ]
  },
  {
   "cell_type": "markdown",
   "metadata": {},
   "source": [
    "$$probability = \\frac {one\\ outcome} {all\\ outcomes}$$\n",
    "\n",
    "$$odds = \\frac {one\\ outcome} {all\\ other\\ outcomes}$$\n",
    "\n",
    "It is often useful to think of the numeric odds as a ratio. For example, 5/1 = 5 odds is \"5 to 1\" -- five wins for every one loss (e.g. of six total plays). 2/3 odds means \"2 to 3\" -- two wins for every three losses (e.g. of five total plays).\n",
    "\n",
    "Examples:\n",
    "\n",
    "- Dice roll of 1: probability = 1/6, odds = 1/5\n",
    "- Even dice roll: probability = 3/6, odds = 3/3 = 1\n",
    "- Dice roll less than 5: probability = 4/6, odds = 4/2 = 2\n",
    "\n",
    "$$odds = \\frac {probability} {1 - probability}$$"
   ]
  },
  {
   "cell_type": "markdown",
   "metadata": {},
   "source": [
    "**As an example we can create a table of probabilities vs. odds, as seen below.**"
   ]
  },
  {
   "cell_type": "code",
   "execution_count": 125,
   "metadata": {
    "scrolled": true
   },
   "outputs": [
    {
     "data": {
      "text/html": [
       "<div>\n",
       "<style>\n",
       "    .dataframe thead tr:only-child th {\n",
       "        text-align: right;\n",
       "    }\n",
       "\n",
       "    .dataframe thead th {\n",
       "        text-align: left;\n",
       "    }\n",
       "\n",
       "    .dataframe tbody tr th {\n",
       "        vertical-align: top;\n",
       "    }\n",
       "</style>\n",
       "<table border=\"1\" class=\"dataframe\">\n",
       "  <thead>\n",
       "    <tr style=\"text-align: right;\">\n",
       "      <th></th>\n",
       "      <th>probability</th>\n",
       "      <th>odds</th>\n",
       "    </tr>\n",
       "  </thead>\n",
       "  <tbody>\n",
       "    <tr>\n",
       "      <th>0</th>\n",
       "      <td>0.10</td>\n",
       "      <td>0.111111</td>\n",
       "    </tr>\n",
       "    <tr>\n",
       "      <th>1</th>\n",
       "      <td>0.20</td>\n",
       "      <td>0.250000</td>\n",
       "    </tr>\n",
       "    <tr>\n",
       "      <th>2</th>\n",
       "      <td>0.25</td>\n",
       "      <td>0.333333</td>\n",
       "    </tr>\n",
       "    <tr>\n",
       "      <th>3</th>\n",
       "      <td>0.50</td>\n",
       "      <td>1.000000</td>\n",
       "    </tr>\n",
       "    <tr>\n",
       "      <th>4</th>\n",
       "      <td>0.60</td>\n",
       "      <td>1.500000</td>\n",
       "    </tr>\n",
       "    <tr>\n",
       "      <th>5</th>\n",
       "      <td>0.80</td>\n",
       "      <td>4.000000</td>\n",
       "    </tr>\n",
       "    <tr>\n",
       "      <th>6</th>\n",
       "      <td>0.90</td>\n",
       "      <td>9.000000</td>\n",
       "    </tr>\n",
       "  </tbody>\n",
       "</table>\n",
       "</div>"
      ],
      "text/plain": [
       "   probability      odds\n",
       "0         0.10  0.111111\n",
       "1         0.20  0.250000\n",
       "2         0.25  0.333333\n",
       "3         0.50  1.000000\n",
       "4         0.60  1.500000\n",
       "5         0.80  4.000000\n",
       "6         0.90  9.000000"
      ]
     },
     "execution_count": 125,
     "metadata": {},
     "output_type": "execute_result"
    }
   ],
   "source": [
    "# Create a table of probability versus odds.\n",
    "table = pd.DataFrame({'probability':[0.1, 0.2, 0.25, 0.5, 0.6, 0.8, 0.9]})\n",
    "table['odds'] = table.probability / (1 - table.probability)\n",
    "table"
   ]
  },
  {
   "cell_type": "markdown",
   "metadata": {},
   "source": [
    "**Exercise.**\n",
    "\n",
    "Convert the following probabilities to odds:\n",
    "\n",
    "1. .25\n",
    "1. 1/3\n",
    "1. 2/3\n",
    "1. .95"
   ]
  },
  {
   "cell_type": "code",
   "execution_count": 126,
   "metadata": {},
   "outputs": [
    {
     "data": {
      "text/html": [
       "<div>\n",
       "<style>\n",
       "    .dataframe thead tr:only-child th {\n",
       "        text-align: right;\n",
       "    }\n",
       "\n",
       "    .dataframe thead th {\n",
       "        text-align: left;\n",
       "    }\n",
       "\n",
       "    .dataframe tbody tr th {\n",
       "        vertical-align: top;\n",
       "    }\n",
       "</style>\n",
       "<table border=\"1\" class=\"dataframe\">\n",
       "  <thead>\n",
       "    <tr style=\"text-align: right;\">\n",
       "      <th></th>\n",
       "      <th>probability</th>\n",
       "      <th>odds</th>\n",
       "    </tr>\n",
       "  </thead>\n",
       "  <tbody>\n",
       "    <tr>\n",
       "      <th>0</th>\n",
       "      <td>0.250000</td>\n",
       "      <td>0.333333</td>\n",
       "    </tr>\n",
       "    <tr>\n",
       "      <th>1</th>\n",
       "      <td>0.333333</td>\n",
       "      <td>0.500000</td>\n",
       "    </tr>\n",
       "    <tr>\n",
       "      <th>2</th>\n",
       "      <td>0.666667</td>\n",
       "      <td>2.000000</td>\n",
       "    </tr>\n",
       "    <tr>\n",
       "      <th>3</th>\n",
       "      <td>0.950000</td>\n",
       "      <td>19.000000</td>\n",
       "    </tr>\n",
       "  </tbody>\n",
       "</table>\n",
       "</div>"
      ],
      "text/plain": [
       "   probability       odds\n",
       "0     0.250000   0.333333\n",
       "1     0.333333   0.500000\n",
       "2     0.666667   2.000000\n",
       "3     0.950000  19.000000"
      ]
     },
     "execution_count": 126,
     "metadata": {},
     "output_type": "execute_result"
    }
   ],
   "source": [
    "table = pd.DataFrame({'probability':[0.25, 1/3, 2/3, .95]})\n",
    "table['odds'] = table.probability / (1 - table.probability)\n",
    "table"
   ]
  },
  {
   "cell_type": "markdown",
   "metadata": {},
   "source": []
  },
  {
   "cell_type": "markdown",
   "metadata": {},
   "source": [
    "<a id=\"understanding-e-and-the-natural-logarithm\"></a>\n",
    "### Understanding the Natural Logarithm"
   ]
  },
  {
   "cell_type": "markdown",
   "metadata": {},
   "source": [
    "A logarithm tells you the *order of magnitude* of a number. The base-10 logarithm is a continuous version of \"the number of times you would need to multiply 10 to get that number.\"\n",
    "\n",
    "| number | number as a power of 10 | $\\log_{10}$(number) |\n",
    "| ------ | ----------------------------- |\n",
    "| $1 $|$ 10^0$ | 0 |\n",
    "| $10 $|$ 10^1$ | 1 |\n",
    "| $100 $|$ 10^2$ | 2 |\n",
    "| $1000 $|$ 10^3$ | 3 |\n",
    "\n",
    "It also works in the other direction:\n",
    "\n",
    "| number | number as a power of 10 | $\\log_{10}$(number) |\n",
    "| ------ | ----------------------------- |\n",
    "| $.001 $ | $ 10^{-3}$ | -3 |\n",
    "| $.01 $ | $ 10^{-2}$ | -2 |\n",
    "| $.1 $|$ 10^{-1}$ | -1 |\n",
    "| $1 $|$ 10^0$ | 0 |\n",
    "\n",
    "And for numbers in between exact powers of 10:\n",
    "\n",
    "| number | number as a power of 10 | $\\log_{10}$(number) |\n",
    "| ------ | ----------------------------- |\n",
    "| $1$ | $ 10^{0}$ | 0 |\n",
    "| $2$ | $ 10^{.301}$ | .301 |\n",
    "| $5$|$ 10^{.699}$ | .699 |\n",
    "| $10$|$ 10^1$ | 1 |\n",
    "| $20$|$ 10^{1.301}$ | 1.301 |\n",
    "| $50$|$ 10^{1.699}$ | 1.699 |\n",
    "| $100$|$ 10^2$ | 2 |"
   ]
  },
  {
   "cell_type": "markdown",
   "metadata": {},
   "source": [
    "**Base $e$.** It is often convenient to use the special number $e$ as a base instead of 10. The interpretation is analogous: the base-$e$ logarithm of a number is a continuous version of \"the number of times you would have to multiple $e$ to get that number.\"\n",
    "\n",
    "For instance:\n",
    "\n",
    "| number | number as a power of $e$ | $\\log_{e}$(number) |\n",
    "| ------ | ----------------------------- |\n",
    "| $1 $|$ e^0$ | 0 |\n",
    "| $2.718$|$ e^1$ | 1 |\n",
    "| $7.39$|$ e^2$ | 2 |\n",
    "| $20.09$|$ e^3$ | 3 |\n",
    "\n",
    "It also works in the other direction:\n",
    "\n",
    "| number | number as a power of $e$ | $\\log_{e}$(number) |\n",
    "| ------ | ----------------------------- |\n",
    "| $.050 $ | $ e^{-3}$ | -3 |\n",
    "| $.135 $ | $ e^{-2}$ | -2 |\n",
    "| $.368 $|$ e^{-1}$ | -1 |\n",
    "| $1 $|$ e^0$ | 0 |\n",
    "\n",
    "And for numbers in between exact powers of $e$:\n",
    "\n",
    "| number | number as a power of $e$ | $\\log_{e}$(number) |\n",
    "| ------ | ----------------------------- |\n",
    "| $1$ | $ e^{0}$ | 0 |\n",
    "| $1.35$ | $ e^{.301}$ | .301 |\n",
    "| $2.01$|$ e^{.699}$ | .699 |\n",
    "| $2.718$|$ e^1$ | 1 |\n",
    "| $3.67$|$ e^{1.301}$ | 1.301 |\n",
    "| $5.47$|$ e^{1.699}$ | 1.699 |\n",
    "| $7.39$|$ e^2$ | 2 |"
   ]
  },
  {
   "cell_type": "markdown",
   "metadata": {},
   "source": [
    "When we take the **logarithm** of an **odds** we get the **log odds**.\n",
    "\n",
    "The most common convention is to use base-$e$ logarithms unless otherwise specified."
   ]
  },
  {
   "cell_type": "code",
   "execution_count": 127,
   "metadata": {},
   "outputs": [
    {
     "data": {
      "text/html": [
       "<div>\n",
       "<style>\n",
       "    .dataframe thead tr:only-child th {\n",
       "        text-align: right;\n",
       "    }\n",
       "\n",
       "    .dataframe thead th {\n",
       "        text-align: left;\n",
       "    }\n",
       "\n",
       "    .dataframe tbody tr th {\n",
       "        vertical-align: top;\n",
       "    }\n",
       "</style>\n",
       "<table border=\"1\" class=\"dataframe\">\n",
       "  <thead>\n",
       "    <tr style=\"text-align: right;\">\n",
       "      <th></th>\n",
       "      <th>probability</th>\n",
       "      <th>odds</th>\n",
       "      <th>logodds</th>\n",
       "    </tr>\n",
       "  </thead>\n",
       "  <tbody>\n",
       "    <tr>\n",
       "      <th>0</th>\n",
       "      <td>0.250000</td>\n",
       "      <td>0.333333</td>\n",
       "      <td>-1.098612</td>\n",
       "    </tr>\n",
       "    <tr>\n",
       "      <th>1</th>\n",
       "      <td>0.333333</td>\n",
       "      <td>0.500000</td>\n",
       "      <td>-0.693147</td>\n",
       "    </tr>\n",
       "    <tr>\n",
       "      <th>2</th>\n",
       "      <td>0.666667</td>\n",
       "      <td>2.000000</td>\n",
       "      <td>0.693147</td>\n",
       "    </tr>\n",
       "    <tr>\n",
       "      <th>3</th>\n",
       "      <td>0.950000</td>\n",
       "      <td>19.000000</td>\n",
       "      <td>2.944439</td>\n",
       "    </tr>\n",
       "  </tbody>\n",
       "</table>\n",
       "</div>"
      ],
      "text/plain": [
       "   probability       odds   logodds\n",
       "0     0.250000   0.333333 -1.098612\n",
       "1     0.333333   0.500000 -0.693147\n",
       "2     0.666667   2.000000  0.693147\n",
       "3     0.950000  19.000000  2.944439"
      ]
     },
     "execution_count": 127,
     "metadata": {},
     "output_type": "execute_result"
    }
   ],
   "source": [
    "# Add log odds to the table.\n",
    "table['logodds'] = np.log(table['odds'])\n",
    "table"
   ]
  },
  {
   "cell_type": "markdown",
   "metadata": {},
   "source": [
    "**Notice:** log odds goes to $-\\infty$ as probability goes to 0, and goes to $\\infty$ as probability goes to 1.\n",
    "\n",
    "**Consequence:** The fact that linear model is unbounded is fine if we use it to model *log odds* rather than *probability*."
   ]
  },
  {
   "cell_type": "markdown",
   "metadata": {},
   "source": [
    "<a id=\"what-is-logistic-regression\"></a>\n",
    "### What Is Logistic Regression?\n",
    "---"
   ]
  },
  {
   "cell_type": "markdown",
   "metadata": {},
   "source": [
    "**Linear regression:** *Continuous response* is modeled as a linear combination of the features.\n",
    "\n",
    "$$y = \\beta_0 + \\beta_1x$$\n",
    "\n",
    "**Logistic regression:** *Log odds* is modeled as a linear combination of the features.\n",
    "\n",
    "$$\\log \\left({p\\over 1-p}\\right) = \\beta_0 + \\beta_1x$$"
   ]
  },
  {
   "cell_type": "markdown",
   "metadata": {},
   "source": [
    "This equation can be rearranged to get the predicted probability:\n",
    "\n",
    "$$\\hat{p} = \\frac{e^{\\beta_0 + \\beta_1x}} {1 + e^{\\beta_0 + \\beta_1x}}$$\n",
    "\n",
    "This equation gives us the \"S\" (sigmoid) shape for the predicted probability as a function of $\\beta_1$."
   ]
  },
  {
   "cell_type": "markdown",
   "metadata": {},
   "source": [
    "### How do we interpret the regression parameters?"
   ]
  },
  {
   "cell_type": "markdown",
   "metadata": {},
   "source": [
    "**Linear regression:**\n",
    "\n",
    "$$y = \\beta_0 + \\beta_1x$$\n",
    "\n",
    "- $\\beta_0$ tells you the model's prediction for $y$ when all input features are zero.\n",
    "- $\\beta_1$ tells you how the model's prediction for $y$ changes with a one-unit increase in $x$ when all other variables remain the same.\n",
    "\n",
    "**Logistic regression:**\n",
    "\n",
    "$$\\log \\left({p\\over 1-p}\\right) = \\beta_0 + \\beta_1x$$\n",
    "\n",
    "- $\\beta_0$ tells you the model's prediction for the *log odds of $y$* when all input features are zero.\n",
    "- $\\beta_1$ tells you how the model's prediction for *the log odds of* $y$ changes with a one-unit increase in $x$ when all other variables remain the same."
   ]
  },
  {
   "cell_type": "markdown",
   "metadata": {},
   "source": [
    "-1.3149 coefficient on na means that predicted log odds that the glass is household decrease by 1.31, when na content increases by 1"
   ]
  },
  {
   "cell_type": "markdown",
   "metadata": {},
   "source": [
    "**Bottom line:** A positive coefficient means that the predicted log odds of the response (and thus the predicted probability) increases with the associated variable, while a negative coefficient means that it decreases."
   ]
  },
  {
   "cell_type": "markdown",
   "metadata": {},
   "source": [
    "![Logistic regression beta values](./assets/logistic_betas.png)"
   ]
  },
  {
   "cell_type": "markdown",
   "metadata": {},
   "source": [
    "Changing the $\\beta_0$ value shifts the curve horizontally, whereas changing the $\\beta_1$ value changes the slope of the curve."
   ]
  },
  {
   "cell_type": "markdown",
   "metadata": {},
   "source": [
    "### Summary\n",
    "\n",
    "- Logistic regression addresses a binary classification problem by modeling the *log odds* that an individual is in the class as a linear function of the model features.\n",
    "- A coefficient in a logistic regression model tells you *how the log odds that the model predicts changes* with a one-unit increase in the associated input feature, while other features remain unchanged.\n",
    "- The model's log-odds predictions can be transformed into *probabilities*.\n",
    "- Those predicted probabilities follow an \"s\" (sigmoid) shape that is bounded by 0 and 1, as a function of the input features.\n",
    "- Those predicted probabilities can be converted into \"hard\" class predictions by mapping everything above a threshold to 1 and everything below it to 0."
   ]
  },
  {
   "cell_type": "markdown",
   "metadata": {},
   "source": [
    "<a id=\"comparing-logistic-regression-to-other-models\"></a>\n",
    "## Comparing Logistic Regression to Other Models\n",
    "---\n",
    "\n",
    "Advantages of logistic regression:\n",
    "\n",
    "- Somewhat interpretable.\n",
    "- Training and prediction are fast.\n",
    "- Outputs probabilities.\n",
    "- Features don't need scaling.\n",
    "- Can perform well with a small number of observations.\n",
    "\n",
    "Disadvantages of logistic regression:\n",
    "\n",
    "- Presumes a linear relationship between the features and the log odds of the response.\n",
    "- Performance is (generally) not competitive with the best supervised learning methods.\n",
    "- Can't automatically learn feature interactions."
   ]
  },
  {
   "cell_type": "markdown",
   "metadata": {},
   "source": [
    "<a id=\"advanced-classification-metrics\"></a>\n",
    "## Advanced Classification Metrics\n",
    "\n",
    "---\n",
    "\n",
    "By default, the `.score` method of a logistic regression model in sklearn returns accuracy:\n",
    "\n",
    "$$Accuracy = \\frac{total~predicted~correct}{total~predicted}$$\n",
    "\n",
    "However, accuracy is not always the most relevant metric."
   ]
  },
  {
   "cell_type": "markdown",
   "metadata": {},
   "source": [
    "Consider the **confusion matrix** for a binary classification problem where we have 165 observations/rows of people who are either smokers or nonsmokers.\n",
    "\n",
    "<table style=\"border: none\">\n",
    "<tr style=\"border: none\">\n",
    "    <td style=\"border: none; vertical-align: bottom\">n = 165</td>\n",
    "    <td style=\"\"><b>Predicted: No</b></td>\n",
    "    <td style=\"\"><b>Predicted: Yes</b></td>\n",
    "</tr>\n",
    "<tr>\n",
    "    <td><b>Actual: No</b></td>\n",
    "    <td style=\"text-align: center\"><font color=\"blue\">TN = 50</font></td>\n",
    "    <td style=\"text-align: center\"><font color=\"red\">FP = 10</font></td>\n",
    "    <td style=\"text-align: center\">60</td>\n",
    "</tr>\n",
    "<tr>\n",
    "    <td><b>Actual: Yes</b></td>\n",
    "    <td style=\"text-align: center\"><font color=\"orange\">FN = 5</font></td>\n",
    "    <td style=\"text-align: center\"><font color=\"green\">TP = 100</font></td>\n",
    "    <td style=\"text-align: center\">105</td>\n",
    "</tr>\n",
    "<tr style=\"border: none\">\n",
    "    <td style=\"border: none\"></td>\n",
    "    <td style=\"text-align: center\">55</td>\n",
    "    <td style=\"text-align: center\">110</td>\n",
    "</tr>\n",
    "\n",
    "</table>\n",
    "\n",
    "\n",
    "- <font color=\"green\">**True positives (TP):**</font> These are cases in which we predicted yes (smokers), and they actually are smokers.\n",
    "- <font color=\"blue\">**True negatives (TN):**</font> We predicted no, and they are nonsmokers.\n",
    "- <font color=\"red\">**False positives (FP):**</font> We predicted yes, but they were not actually smokers. (This is also known as a \"Type I error.\")\n",
    "- <font color=\"orange\">**False negatives (FN):**</font> We predicted no, but they are smokers. (This is also known as a \"Type II error.\")"
   ]
  },
  {
   "cell_type": "markdown",
   "metadata": {},
   "source": [
    "**Exercise.**\n",
    "\n",
    "Categorize these cases as TP, TN, FP, or FN.\n",
    "    \n",
    "- We predict that a growth is malignant, and it is benign. (is_malignant=1)\n",
    "- We predict that an image does not contain a cat, and it does not. (has_cat=1)\n",
    "- We predict that a locomotive will fail in the next two weeks, and it does. (breaks=1)\n",
    "- We predict that a user will like a song, and she does not. (likes_song=1)"
   ]
  },
  {
   "cell_type": "markdown",
   "metadata": {},
   "source": []
  },
  {
   "cell_type": "markdown",
   "metadata": {},
   "source": [
    "<a id=\"accuracy-true-positive-rate-and-false-negative-rate\"></a>\n",
    "### Accuracy, True Positive Rate, and False Negative Rate"
   ]
  },
  {
   "cell_type": "markdown",
   "metadata": {},
   "source": [
    "**Accuracy:** Overall, how often is the classifier correct?\n",
    "\n",
    "<span>\n",
    "    (<span style=\"color: green\">TP</span>+<span style=\"color: blue\">TN</span>)/<span style=\"color: purple\">total</span> = (<span style=\"color: green\">100</span>+<span style=\"color: blue\">50</span>)/<span style=\"color: purple\">165</span> = 0.91\n",
    "</span>\n",
    "\n",
    "<table style=\"border: none\">\n",
    "<tr style=\"border: none\">\n",
    "    <td style=\"border: none; vertical-align: bottom; color: purple\">n = 165</td>\n",
    "    <td style=\"\"><b>Predicted: No</b></td>\n",
    "    <td style=\"\"><b>Predicted: Yes</b></td>\n",
    "</tr>\n",
    "<tr>\n",
    "    <td><b>Actual: No</b></td>\n",
    "    <td style=\"text-align: center; background-color: blue\">TN = 50</td>\n",
    "    <td style=\"text-align: center\">FP = 10</td>\n",
    "    <td style=\"text-align: center\">60</td>\n",
    "</tr>\n",
    "<tr>\n",
    "    <td><b>Actual: Yes</b></td>\n",
    "    <td style=\"text-align: center\">FN = 5</td>\n",
    "    <td style=\"text-align: center; background-color: green\">TP = 100</td>\n",
    "    <td style=\"text-align: center\">105</td>\n",
    "</tr>\n",
    "<tr style=\"border: none\">\n",
    "    <td style=\"border: none\"></td>\n",
    "    <td style=\"text-align: center\">55</td>\n",
    "    <td style=\"text-align: center\">110</td>\n",
    "</tr>\n",
    "\n",
    "</table>"
   ]
  },
  {
   "cell_type": "markdown",
   "metadata": {},
   "source": [
    "**True positive rate (TPR)** asks, “Out of all of the target class labels, how many were accurately predicted to belong to that class?”\n",
    "\n",
    "For example, given a medical exam that tests for cancer, how often does it correctly identify patients with cancer?\n",
    "\n",
    "<span>\n",
    "<span style=\"color: green\">TP</span>/<span style=\"color: aqua\">actual yes</span> = <span style=\"color: green\">100</span>/<span style=\"color: aqua\">105</span> = 0.95\n",
    "</span>\n",
    "\n",
    "<table style=\"border: none\">\n",
    "<tr style=\"border: none\">\n",
    "    <td style=\"border: none; vertical-align: bottom\">n = 165</td>\n",
    "    <td style=\"\"><b>Predicted: No</b></td>\n",
    "    <td style=\"\"><b>Predicted: Yes</b></td>\n",
    "</tr>\n",
    "<tr>\n",
    "    <td><b>Actual: No</b></td>\n",
    "    <td style=\"text-align: center\">TN = 50</td>\n",
    "    <td style=\"text-align: center\">FP = 10</td>\n",
    "    <td style=\"text-align: center\">60</td>\n",
    "</tr>\n",
    "<tr>\n",
    "    <td><b>Actual: Yes</b></td>\n",
    "    <td style=\"text-align: center\">FN = 5</td>\n",
    "    <td style=\"text-align: center;background-color: green\">TP = 100</td>\n",
    "    <td style=\"text-align: center;color: aqua\">105</td>\n",
    "</tr>\n",
    "<tr style=\"border: none\">\n",
    "    <td style=\"border: none\"></td>\n",
    "    <td style=\"text-align: center\">55</td>\n",
    "    <td style=\"text-align: center\">110</td>\n",
    "</tr>\n",
    "\n",
    "</table>"
   ]
  },
  {
   "cell_type": "markdown",
   "metadata": {},
   "source": [
    "**False positive rate (FPR)** asks, “Out of all items not belonging to a class label, how many were predicted as belonging to that target class label?”\n",
    "\n",
    "For example, given a medical exam that tests for cancer, how often does it trigger a “false alarm” by incorrectly saying a patient has cancer?\n",
    "\n",
    "<span>\n",
    "<span style=\"color: orange\">FP</span>/<span style=\"color: fuchsia\">actual no</span> = <span style=\"color: orange\">10</span>/<span style=\"color: fuchsia\">60</span> = 0.17\n",
    "</span>\n",
    "\n",
    "<table style=\"border: none\">\n",
    "<tr style=\"border: none\">\n",
    "    <td style=\"border: none; vertical-align: bottom\">n = 165</td>\n",
    "    <td style=\"\"><b>Predicted: No</b></td>\n",
    "    <td style=\"\"><b>Predicted: Yes</b></td>\n",
    "</tr>\n",
    "<tr>\n",
    "    <td><b>Actual: No</b></td>\n",
    "    <td style=\"text-align: center\">TN = 50</td>\n",
    "    <td style=\"text-align: center;background-color: orange\">FP = 10</td>\n",
    "    <td style=\"text-align: center;color:fuchsia\">60</td>\n",
    "</tr>\n",
    "<tr>\n",
    "    <td><b>Actual: Yes</b></td>\n",
    "    <td style=\"text-align: center\">FN = 5</td>\n",
    "    <td style=\"text-align: center\">TP = 100</td>\n",
    "    <td style=\"text-align: center\">105</td>\n",
    "</tr>\n",
    "<tr style=\"border: none\">\n",
    "    <td style=\"border: none\"></td>\n",
    "    <td style=\"text-align: center\">55</td>\n",
    "    <td style=\"text-align: center\">110</td>\n",
    "</tr>\n",
    "\n",
    "</table>"
   ]
  },
  {
   "cell_type": "markdown",
   "metadata": {},
   "source": [
    "**Exercise.**\n",
    "\n",
    "We turn the probabilities output by a logistic regression model into \"hard\" predictions by setting a threshold. For instance, we might treat all probabilities above .5 as positive predictions and the rest as negative predictions.\n",
    "\n",
    "- How does the true positive rate of a logistic regression model change if we change the threshold probability for treating a prediction as positive from .5 to .6?"
   ]
  },
  {
   "cell_type": "markdown",
   "metadata": {},
   "source": []
  },
  {
   "cell_type": "markdown",
   "metadata": {},
   "source": [
    "- How does the false positive rate of a logistic regression model change if we change the threshold probability for treating a prediction as positive from .5 to .6?"
   ]
  },
  {
   "cell_type": "markdown",
   "metadata": {},
   "source": []
  },
  {
   "cell_type": "markdown",
   "metadata": {},
   "source": [
    "- Describe a situation in which you would want to use a high threshold probability."
   ]
  },
  {
   "cell_type": "markdown",
   "metadata": {},
   "source": []
  },
  {
   "cell_type": "markdown",
   "metadata": {},
   "source": [
    "- Describe a situation in which you would want to use a low threshold probability."
   ]
  },
  {
   "cell_type": "markdown",
   "metadata": {},
   "source": []
  },
  {
   "cell_type": "markdown",
   "metadata": {},
   "source": [
    "- Calculate the accuracy, true positive rate, and false positive rate for the confusion matrix below.\n",
    "\n",
    "<table style=\"border: none\">\n",
    "<tr style=\"border: none\">\n",
    "    <td style=\"border: none; vertical-align: bottom\">n = 140</td>\n",
    "    <td style=\"\"><b>Predicted: No</b></td>\n",
    "    <td style=\"\"><b>Predicted: Yes</b></td>\n",
    "</tr>\n",
    "<tr>\n",
    "    <td><b>Actual: No</b></td>\n",
    "    <td style=\"text-align: center\">30</td>\n",
    "    <td style=\"text-align: center\">10</td>\n",
    "    <td style=\"text-align: center\">40</td>\n",
    "</tr>\n",
    "<tr>\n",
    "    <td><b>Actual: Yes</b></td>\n",
    "    <td style=\"text-align: center\">60</td>\n",
    "    <td style=\"text-align: center\">40</td>\n",
    "    <td style=\"text-align: center\">100</td>\n",
    "</tr>\n",
    "<tr style=\"border: none\">\n",
    "    <td style=\"border: none\"></td>\n",
    "    <td style=\"text-align: center\">90</td>\n",
    "    <td style=\"text-align: center\">50</td>\n",
    "</tr>\n",
    "\n",
    "</table>"
   ]
  },
  {
   "cell_type": "markdown",
   "metadata": {},
   "source": [
    "### Example\n",
    "\n",
    "The true positive and false positive rates gives us a much clearer picture of where predictions begin to fall apart."
   ]
  },
  {
   "cell_type": "code",
   "execution_count": null,
   "metadata": {
    "collapsed": true,
    "scrolled": true
   },
   "outputs": [],
   "source": [
    "from sklearn import linear_model, metrics, model_selection\n",
    "\n",
    "admissions_path = Path('.', 'data', 'admissions.csv')\n",
    "admissions = pd.read_csv(admissions_path).dropna()\n",
    "admissions.head()"
   ]
  },
  {
   "cell_type": "markdown",
   "metadata": {},
   "source": [
    "**We can predict the `admit` class from `gre` and use a train-test split to evaluate the performance of our model on a held-out test set.**"
   ]
  },
  {
   "cell_type": "code",
   "execution_count": null,
   "metadata": {
    "collapsed": true
   },
   "outputs": [],
   "source": [
    "# Split data, train model\n"
   ]
  },
  {
   "cell_type": "code",
   "execution_count": null,
   "metadata": {
    "collapsed": true
   },
   "outputs": [],
   "source": [
    "# Score model\n"
   ]
  },
  {
   "cell_type": "code",
   "execution_count": null,
   "metadata": {
    "collapsed": true
   },
   "outputs": [],
   "source": [
    "# Compare to null model\n"
   ]
  },
  {
   "cell_type": "code",
   "execution_count": null,
   "metadata": {
    "collapsed": true
   },
   "outputs": [],
   "source": [
    "# Get the confusion matrix\n"
   ]
  },
  {
   "cell_type": "markdown",
   "metadata": {},
   "source": [
    "**Exercise**\n",
    "\n",
    "- What is our model doing?\n",
    "- What is the model's accuracy on the test set?\n",
    "- What is the model's true positive rate?\n",
    "- What is the model's false positive rate?"
   ]
  },
  {
   "cell_type": "markdown",
   "metadata": {
    "collapsed": true
   },
   "source": []
  },
  {
   "cell_type": "markdown",
   "metadata": {},
   "source": [
    "**We can vary the classification threshold for our model to get different predictions.**"
   ]
  },
  {
   "cell_type": "code",
   "execution_count": null,
   "metadata": {
    "collapsed": true
   },
   "outputs": [],
   "source": []
  },
  {
   "cell_type": "markdown",
   "metadata": {
    "collapsed": true
   },
   "source": [
    "**Exercise**\n",
    "\n",
    "- What is the model's accuracy on the test set?\n",
    "- What is the model's true positive rate?\n",
    "- What is the model's false positive rate?"
   ]
  },
  {
   "cell_type": "markdown",
   "metadata": {},
   "source": []
  },
  {
   "cell_type": "markdown",
   "metadata": {},
   "source": [
    "### Accuracy\n",
    "\n",
    "**Advantages:**\n",
    "\n",
    "- Intuitive: it's a lot like an exam score where you get total correct/total attempted.\n",
    "\n",
    "**Disadvantages:**\n",
    "\n",
    "- Potentially misleading: Can look OK when model is just outputting the most common label.\n",
    "    - Particularly bad when classes are imbalanced -- e.g. train doesn't break 99% of the time, so a model that always says \"won't break\" has 99% accuracy -- but it fails exactly when we need it!\n",
    "- Doesn't account for relative costs of false positives and false negatives.\n",
    "- Doesn't say anything about how far predicted probabilities are from the correct labels."
   ]
  },
  {
   "cell_type": "markdown",
   "metadata": {},
   "source": [
    "**Other metrics to investigate:**\n",
    "    \n",
    "- **Classification error:** Proportion of incorrect predictions (1-accuracy, lower is better).\n",
    "- **Receiver Operating Characteristic (ROC) curves:** True positive rate vs. false positive rate across all possible threshold probabilities. The **area under the ROC curve** (AUC) is a measure of how well your model performs overall across those thresholds.\n",
    "  - Allows you to visualize the performance of your classifier across all possible classification thresholds, thus helping you to choose a threshold that appropriately balances true positives and false positives.\n",
    "  - Still useful when there is high class imbalance (unlike classification accuracy/error).\n",
    "  - Harder to use when there are more than two response classes.\n",
    "- **Log loss**: Measures how far the output probabilities are from the correct labels. (Useful when you want to make expected value calculations with those probabilities or triage cases for further attention.)\n",
    "- **True Negative Rate**, **False Negative Rate**\n",
    "- **Recall** (a.k.a. True Positive Rate), **Precision** (proportion of positive predictions that are true)\n",
    "\n",
    "These measures are all readily available in sklearn."
   ]
  },
  {
   "cell_type": "markdown",
   "metadata": {},
   "source": [
    "## Lesson Review\n",
    "- **Logistic regression**\n",
    "  - What kind of machine learning problems does logistic regression address?\n",
    "  - What do the coefficients in a logistic regression represent? How does the interpretation differ from ordinary least squares? How is it similar?\n",
    "  \n",
    "- **The confusion matrix**\n",
    "  - Why isn't accuracy all you need to evaluate classification models?\n",
    "  - How can you tune a model based on the relative costs of false positives and false negatives?"
   ]
  },
  {
   "cell_type": "markdown",
   "metadata": {},
   "source": [
    "# Projects\n",
    "\n",
    "- Final Project Pt 2 due today\n",
    "- Final Project Pt 3 due Thurs."
   ]
  },
  {
   "cell_type": "markdown",
   "metadata": {},
   "source": [
    "# Questions?"
   ]
  },
  {
   "cell_type": "markdown",
   "metadata": {},
   "source": [
    "```\n",
    "=========================================\n",
    "@channel\n",
    "Exit Ticket: https://goo.gl/forms/OUw4gyTiRKMOTI3t2        \n",
    "\n",
    "#feedback\n",
    "=========================================\n",
    "```"
   ]
  },
  {
   "cell_type": "code",
   "execution_count": null,
   "metadata": {
    "collapsed": true
   },
   "outputs": [],
   "source": []
  },
  {
   "cell_type": "code",
   "execution_count": null,
   "metadata": {
    "collapsed": true
   },
   "outputs": [],
   "source": [
    "#random sample of pandas dataframe in case you need to parse down the data\n",
    "\n",
    "help(glass.sample)"
   ]
  },
  {
   "cell_type": "code",
   "execution_count": 128,
   "metadata": {
    "collapsed": true
   },
   "outputs": [],
   "source": [
    "#instarcart_data = instacart_data.sample(frac=.1)"
   ]
  },
  {
   "cell_type": "code",
   "execution_count": null,
   "metadata": {
    "collapsed": true
   },
   "outputs": [],
   "source": [
    "help(pd.read_csv)"
   ]
  },
  {
   "cell_type": "code",
   "execution_count": null,
   "metadata": {
    "collapsed": true
   },
   "outputs": [],
   "source": []
  }
 ],
 "metadata": {
  "kernelspec": {
   "display_name": "Python 3",
   "language": "python",
   "name": "python3"
  },
  "language_info": {
   "codemirror_mode": {
    "name": "ipython",
    "version": 3
   },
   "file_extension": ".py",
   "mimetype": "text/x-python",
   "name": "python",
   "nbconvert_exporter": "python",
   "pygments_lexer": "ipython3",
   "version": "3.6.3"
  }
 },
 "nbformat": 4,
 "nbformat_minor": 1
}
